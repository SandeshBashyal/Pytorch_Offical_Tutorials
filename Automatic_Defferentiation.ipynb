{
  "nbformat": 4,
  "nbformat_minor": 0,
  "metadata": {
    "colab": {
      "provenance": [],
      "authorship_tag": "ABX9TyM2DhRExIedzPCQ4EtM5/dR",
      "include_colab_link": true
    },
    "kernelspec": {
      "name": "python3",
      "display_name": "Python 3"
    },
    "language_info": {
      "name": "python"
    }
  },
  "cells": [
    {
      "cell_type": "markdown",
      "metadata": {
        "id": "view-in-github",
        "colab_type": "text"
      },
      "source": [
        "<a href=\"https://colab.research.google.com/github/SandeshBashyal/Pytorch_Offical_Tutorials/blob/main/Automatic_Defferentiation.ipynb\" target=\"_parent\"><img src=\"https://colab.research.google.com/assets/colab-badge.svg\" alt=\"Open In Colab\"/></a>"
      ]
    },
    {
      "cell_type": "markdown",
      "source": [
        "# Automatic Differentiation with `torch.autograd`"
      ],
      "metadata": {
        "id": "KikTb-tkDJNN"
      }
    },
    {
      "cell_type": "markdown",
      "source": [
        "https://pytorch.org/tutorials/beginner/basics/autogradqs_tutorial.html#\n",
        "\n",
        "https://pytorch.org/docs/stable/autograd.html#function"
      ],
      "metadata": {
        "id": "b-Q5HP2aDcxT"
      }
    },
    {
      "cell_type": "code",
      "source": [
        "import torch\n",
        "\n",
        "x = torch.ones(5)         # Input\n",
        "w = torch.randn(5,3, requires_grad = True)    # Weight\n",
        "b = torch.randn(3, requires_grad = True)      # Bias\n",
        "y = torch.zeros(3)        # Expected Output\n",
        "\n",
        "z = torch.matmul(x,w)+b\n",
        "\n",
        "loss = torch.nn.functional.binary_cross_entropy_with_logits(z, y)\n",
        "loss"
      ],
      "metadata": {
        "colab": {
          "base_uri": "https://localhost:8080/"
        },
        "id": "edcItMcFGdiE",
        "outputId": "2621b1cc-85c0-495f-e920-e326a7a922c0"
      },
      "execution_count": 2,
      "outputs": [
        {
          "output_type": "execute_result",
          "data": {
            "text/plain": [
              "tensor(0.1110, grad_fn=<BinaryCrossEntropyWithLogitsBackward0>)"
            ]
          },
          "metadata": {},
          "execution_count": 2
        }
      ]
    },
    {
      "cell_type": "markdown",
      "source": [
        "## Tensors, Functions, Computational Graph"
      ],
      "metadata": {
        "id": "4MJS2FVeLBd_"
      }
    },
    {
      "cell_type": "markdown",
      "source": [
        "You can set the value of `requires_grad` when creating a tensor, or later by using `x.requires_grad_(True)` method."
      ],
      "metadata": {
        "id": "4DmfwC1fLwtR"
      }
    },
    {
      "cell_type": "code",
      "source": [
        "print(f\"Gradient function for z = {z.grad_fn}\")\n",
        "print(f\"Gradient function for loss = {loss.grad_fn}\")"
      ],
      "metadata": {
        "colab": {
          "base_uri": "https://localhost:8080/"
        },
        "id": "Dq-8V8AwMAVY",
        "outputId": "fb13e150-24ed-47aa-ae9b-4b455488fb8b"
      },
      "execution_count": 3,
      "outputs": [
        {
          "output_type": "stream",
          "name": "stdout",
          "text": [
            "Gradient function for z = <AddBackward0 object at 0x7f785ddc6dd0>\n",
            "Gradient function for loss = <BinaryCrossEntropyWithLogitsBackward0 object at 0x7f785e497ee0>\n"
          ]
        }
      ]
    },
    {
      "cell_type": "markdown",
      "source": [
        "## Computing Gradients"
      ],
      "metadata": {
        "id": "gC-l40GsOoIZ"
      }
    },
    {
      "cell_type": "code",
      "source": [
        "loss.backward()\n",
        "print(w.grad)\n",
        "print(b.grad)"
      ],
      "metadata": {
        "colab": {
          "base_uri": "https://localhost:8080/"
        },
        "id": "1wrh39AeOtYI",
        "outputId": "5851b8dc-e7e3-450f-a3a4-dd8c79addfa2"
      },
      "execution_count": 4,
      "outputs": [
        {
          "output_type": "stream",
          "name": "stdout",
          "text": [
            "tensor([[0.0035, 0.0035, 0.0893],\n",
            "        [0.0035, 0.0035, 0.0893],\n",
            "        [0.0035, 0.0035, 0.0893],\n",
            "        [0.0035, 0.0035, 0.0893],\n",
            "        [0.0035, 0.0035, 0.0893]])\n",
            "tensor([0.0035, 0.0035, 0.0893])\n"
          ]
        }
      ]
    },
    {
      "cell_type": "markdown",
      "source": [
        "## Disabling Gradient Tracking"
      ],
      "metadata": {
        "id": "QR9QjirecjCd"
      }
    },
    {
      "cell_type": "code",
      "source": [
        "z = torch.matmul(x, w)+b\n",
        "print(z.requires_grad)\n",
        "\n",
        "with torch.no_grad():\n",
        "    z = torch.matmul(x, w)+b\n",
        "print(z.requires_grad)"
      ],
      "metadata": {
        "colab": {
          "base_uri": "https://localhost:8080/"
        },
        "id": "liY9HmV1jvb6",
        "outputId": "79288472-56e2-49da-8db7-eaffc31707df"
      },
      "execution_count": 5,
      "outputs": [
        {
          "output_type": "stream",
          "name": "stdout",
          "text": [
            "True\n",
            "False\n"
          ]
        }
      ]
    },
    {
      "cell_type": "code",
      "source": [
        "z = torch.matmul(x, w)+b\n",
        "z_det = z.detach()\n",
        "print(z_det.requires_grad)"
      ],
      "metadata": {
        "colab": {
          "base_uri": "https://localhost:8080/"
        },
        "id": "V4c-XRlCjwFP",
        "outputId": "671b6adb-d6e4-4f71-c617-4e24348a2d03"
      },
      "execution_count": 6,
      "outputs": [
        {
          "output_type": "stream",
          "name": "stdout",
          "text": [
            "False\n"
          ]
        }
      ]
    },
    {
      "cell_type": "markdown",
      "source": [
        "## More on Computational Graphs"
      ],
      "metadata": {
        "id": "EJUlG507jyVU"
      }
    },
    {
      "cell_type": "markdown",
      "source": [
        "--> In a forward pass, autograd does two things simultaneously:\n",
        "\n",
        "1. run the requested operation to compute a resulting tensor\n",
        "\n",
        "2. maintain the operation’s gradient function in the DAG.\n",
        "\n",
        "--> The backward pass kicks off when `.backward()` is called on the DAG root `.autograd` then:\n",
        "\n",
        "1. computes the gradients from each `.grad_fn`,\n",
        "\n",
        "2. accumulates them in the respective tensor’s `.grad` attribute\n",
        "\n",
        "3. using the chain rule, propagates all the way to the leaf tensors."
      ],
      "metadata": {
        "id": "kzwMXN2qkPDv"
      }
    },
    {
      "cell_type": "markdown",
      "source": [
        "## Tensor Gradients and Jacobian Products"
      ],
      "metadata": {
        "id": "VLcfrzP9k7Le"
      }
    },
    {
      "cell_type": "code",
      "source": [
        "inp = torch.eye(4, 5, requires_grad=True)\n",
        "out = (inp+1).pow(2).t()\n",
        "out.backward(torch.ones_like(out), retain_graph=True)\n",
        "print(f\"First call\\n{inp.grad}\")\n",
        "out.backward(torch.ones_like(out), retain_graph=True)\n",
        "print(f\"\\nSecond call\\n{inp.grad}\")\n",
        "inp.grad.zero_()\n",
        "out.backward(torch.ones_like(out), retain_graph=True)\n",
        "print(f\"\\nCall after zeroing gradients\\n{inp.grad}\")"
      ],
      "metadata": {
        "colab": {
          "base_uri": "https://localhost:8080/"
        },
        "id": "IQFD7xhnlAVH",
        "outputId": "d505b9a6-e72b-48c8-bd3a-748e7b364a53"
      },
      "execution_count": 7,
      "outputs": [
        {
          "output_type": "stream",
          "name": "stdout",
          "text": [
            "First call\n",
            "tensor([[4., 2., 2., 2., 2.],\n",
            "        [2., 4., 2., 2., 2.],\n",
            "        [2., 2., 4., 2., 2.],\n",
            "        [2., 2., 2., 4., 2.]])\n",
            "\n",
            "Second call\n",
            "tensor([[8., 4., 4., 4., 4.],\n",
            "        [4., 8., 4., 4., 4.],\n",
            "        [4., 4., 8., 4., 4.],\n",
            "        [4., 4., 4., 8., 4.]])\n",
            "\n",
            "Call after zeroing gradients\n",
            "tensor([[4., 2., 2., 2., 2.],\n",
            "        [2., 4., 2., 2., 2.],\n",
            "        [2., 2., 4., 2., 2.],\n",
            "        [2., 2., 2., 4., 2.]])\n"
          ]
        }
      ]
    }
  ]
}