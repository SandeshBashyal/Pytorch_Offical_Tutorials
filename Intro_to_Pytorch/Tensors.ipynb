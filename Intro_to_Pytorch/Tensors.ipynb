{
  "nbformat": 4,
  "nbformat_minor": 0,
  "metadata": {
    "colab": {
      "provenance": [],
      "authorship_tag": "ABX9TyNrRkEeoGlS/8I0+EEAZwcu"
    },
    "kernelspec": {
      "name": "python3",
      "display_name": "Python 3"
    },
    "language_info": {
      "name": "python"
    }
  },
  "cells": [
    {
      "cell_type": "markdown",
      "source": [
        "# Introduction to Pytorch: Tensors"
      ],
      "metadata": {
        "id": "_Hn_ELPxtEIE"
      }
    },
    {
      "cell_type": "markdown",
      "source": [
        "Tensors are a specialized data structure that are very similar to arrays and matrices. In PyTorch, we use tensors to encode the inputs and outputs of a model, as well as the model’s parameters."
      ],
      "metadata": {
        "id": "Fv1Wgz5dtTp6"
      }
    },
    {
      "cell_type": "code",
      "source": [
        "import torch\n",
        "import numpy as np"
      ],
      "metadata": {
        "id": "qSSx30WEtWIj"
      },
      "execution_count": 1,
      "outputs": []
    },
    {
      "cell_type": "markdown",
      "source": [
        "## Initializing the tensors"
      ],
      "metadata": {
        "id": "DdmKWzcdtajg"
      }
    },
    {
      "cell_type": "markdown",
      "source": [
        "1. Directly from Data"
      ],
      "metadata": {
        "id": "l1hPYIxKtebj"
      }
    },
    {
      "cell_type": "code",
      "source": [
        "data = [[1, 2], [3, 4],[5, 6]]\n",
        "x_data = torch.tensor(data)\n",
        "x_data, x_data.shape"
      ],
      "metadata": {
        "colab": {
          "base_uri": "https://localhost:8080/"
        },
        "id": "JlPq_3I0tskG",
        "outputId": "e321fa46-34cf-4b40-d1ee-36f338e837a8"
      },
      "execution_count": 2,
      "outputs": [
        {
          "output_type": "execute_result",
          "data": {
            "text/plain": [
              "(tensor([[1, 2],\n",
              "         [3, 4],\n",
              "         [5, 6]]),\n",
              " torch.Size([3, 2]))"
            ]
          },
          "metadata": {},
          "execution_count": 2
        }
      ]
    },
    {
      "cell_type": "markdown",
      "source": [
        "2. From a numpy array"
      ],
      "metadata": {
        "id": "Gudse393uMyd"
      }
    },
    {
      "cell_type": "code",
      "source": [
        "np_array = np.array(data)\n",
        "x_np = torch.from_numpy(np_array)\n",
        "x_np, x_np.shape"
      ],
      "metadata": {
        "colab": {
          "base_uri": "https://localhost:8080/"
        },
        "id": "gGGTfl1mt2OT",
        "outputId": "b2493d71-6cf5-474b-d578-6a6538c4973d"
      },
      "execution_count": 3,
      "outputs": [
        {
          "output_type": "execute_result",
          "data": {
            "text/plain": [
              "(tensor([[1, 2],\n",
              "         [3, 4],\n",
              "         [5, 6]]),\n",
              " torch.Size([3, 2]))"
            ]
          },
          "metadata": {},
          "execution_count": 3
        }
      ]
    },
    {
      "cell_type": "markdown",
      "source": [
        "3. From another tensor: The created tensor retains the properties (shape, datatype) of argument tensor"
      ],
      "metadata": {
        "id": "uAqHXyzcuKCc"
      }
    },
    {
      "cell_type": "code",
      "source": [
        "ones = torch.ones_like(x_data)\n",
        "print(f'Ones tensor :\\n{ones}\\n')\n",
        "\n",
        "rand_values = torch.rand_like(x_data, dtype = torch.float)\n",
        "print(f'\\nRandom tensor : \\n{rand_values, rand_values.dtype}')"
      ],
      "metadata": {
        "colab": {
          "base_uri": "https://localhost:8080/"
        },
        "id": "sJLxiCLVuTTu",
        "outputId": "adfeaedc-a8ae-4455-dede-9a0c73eda82a"
      },
      "execution_count": 4,
      "outputs": [
        {
          "output_type": "stream",
          "name": "stdout",
          "text": [
            "Ones tensor :\n",
            "tensor([[1, 1],\n",
            "        [1, 1],\n",
            "        [1, 1]])\n",
            "\n",
            "\n",
            "Random tensor : \n",
            "(tensor([[0.2427, 0.8274],\n",
            "        [0.5268, 0.0331],\n",
            "        [0.1863, 0.9912]]), torch.float32)\n"
          ]
        }
      ]
    },
    {
      "cell_type": "markdown",
      "source": [
        "4. With random and constant values"
      ],
      "metadata": {
        "id": "KbtBEdfBv-PA"
      }
    },
    {
      "cell_type": "code",
      "source": [
        "shape = (2, 3, 5)\n",
        "rand_tensor = torch.rand(shape)\n",
        "ones_tensor = torch.ones(shape)\n",
        "zeros_tensor = torch.zeros(shape)\n",
        "\n",
        "print(f\"Random Tensor: \\n {rand_tensor} \\n\")\n",
        "print(f\"Ones Tensor: \\n {ones_tensor} \\n\")\n",
        "print(f\"Zeros Tensor: \\n {zeros_tensor}\")"
      ],
      "metadata": {
        "colab": {
          "base_uri": "https://localhost:8080/"
        },
        "id": "MvfJ0tWjwNf8",
        "outputId": "a2282fe5-337d-4a9d-af0c-e331c2f679c8"
      },
      "execution_count": 5,
      "outputs": [
        {
          "output_type": "stream",
          "name": "stdout",
          "text": [
            "Random Tensor: \n",
            " tensor([[[0.5341, 0.5987, 0.0666, 0.7801, 0.2769],\n",
            "         [0.8917, 0.6204, 0.8767, 0.5018, 0.2394],\n",
            "         [0.0055, 0.7208, 0.7401, 0.2762, 0.5986]],\n",
            "\n",
            "        [[0.3267, 0.4563, 0.2142, 0.9129, 0.4903],\n",
            "         [0.6527, 0.5377, 0.1881, 0.8924, 0.9190],\n",
            "         [0.2560, 0.4477, 0.9611, 0.9719, 0.4559]]]) \n",
            "\n",
            "Ones Tensor: \n",
            " tensor([[[1., 1., 1., 1., 1.],\n",
            "         [1., 1., 1., 1., 1.],\n",
            "         [1., 1., 1., 1., 1.]],\n",
            "\n",
            "        [[1., 1., 1., 1., 1.],\n",
            "         [1., 1., 1., 1., 1.],\n",
            "         [1., 1., 1., 1., 1.]]]) \n",
            "\n",
            "Zeros Tensor: \n",
            " tensor([[[0., 0., 0., 0., 0.],\n",
            "         [0., 0., 0., 0., 0.],\n",
            "         [0., 0., 0., 0., 0.]],\n",
            "\n",
            "        [[0., 0., 0., 0., 0.],\n",
            "         [0., 0., 0., 0., 0.],\n",
            "         [0., 0., 0., 0., 0.]]])\n"
          ]
        }
      ]
    },
    {
      "cell_type": "markdown",
      "source": [
        "## Attributes of a Tensor"
      ],
      "metadata": {
        "id": "GYIK-ecNzOQg"
      }
    },
    {
      "cell_type": "markdown",
      "source": [
        "Tensor attributes describe shape, datatype, and device"
      ],
      "metadata": {
        "id": "_MZw-bz4zcrw"
      }
    },
    {
      "cell_type": "code",
      "source": [
        "tensor = torch.rand(3, 4)\n",
        "\n",
        "print(f'Shape of the tensor is {tensor.shape}\\n')\n",
        "print(f'Datatype of the tensor is {tensor.dtype}\\n')\n",
        "print(f'Device of the tensor is  stored in {tensor.device}\\n')\n"
      ],
      "metadata": {
        "colab": {
          "base_uri": "https://localhost:8080/"
        },
        "id": "JxuDva4Azltu",
        "outputId": "2af5880f-d972-4306-f5da-cd0054ffb089"
      },
      "execution_count": 6,
      "outputs": [
        {
          "output_type": "stream",
          "name": "stdout",
          "text": [
            "Shape of the tensor is torch.Size([3, 4])\n",
            "\n",
            "Datatype of the tensor is torch.float32\n",
            "\n",
            "Device of the tensor is  stored in cpu\n",
            "\n"
          ]
        }
      ]
    },
    {
      "cell_type": "markdown",
      "source": [
        "## Operations on Tensor"
      ],
      "metadata": {
        "id": "Tut-kgcI0Aci"
      }
    },
    {
      "cell_type": "markdown",
      "source": [
        "https://pytorch.org/docs/stable/torch.html"
      ],
      "metadata": {
        "id": "9FwR66zD1OFL"
      }
    },
    {
      "cell_type": "markdown",
      "source": [
        "cpu to gpu"
      ],
      "metadata": {
        "id": "DYNjd0-H0Fhw"
      }
    },
    {
      "cell_type": "code",
      "source": [
        "device = \"cuda\" if torch.cuda.is_available() else \"cpu\"\n"
      ],
      "metadata": {
        "id": "PntGgWmw0LmV"
      },
      "execution_count": 7,
      "outputs": []
    },
    {
      "cell_type": "code",
      "source": [
        "# We move our tensor to the GPU if available\n",
        "if torch.cuda.is_available():\n",
        "    tensor = tensor.to(\"cuda\")\n",
        "tensor"
      ],
      "metadata": {
        "colab": {
          "base_uri": "https://localhost:8080/"
        },
        "id": "68x87HHk0vMb",
        "outputId": "1f11e085-34a9-463a-f327-8124b5271b7c"
      },
      "execution_count": 8,
      "outputs": [
        {
          "output_type": "execute_result",
          "data": {
            "text/plain": [
              "tensor([[0.5750, 0.6217, 0.7791, 0.4904],\n",
              "        [0.9978, 0.1180, 0.2091, 0.0632],\n",
              "        [0.9437, 0.9374, 0.3806, 0.3625]])"
            ]
          },
          "metadata": {},
          "execution_count": 8
        }
      ]
    },
    {
      "cell_type": "markdown",
      "source": [
        "Standard numpy-like indexing and slicing:"
      ],
      "metadata": {
        "id": "G5Ixz02g0_np"
      }
    },
    {
      "cell_type": "code",
      "source": [
        "tensor = torch.ones(4, 5)\n",
        "print(f\"First row: {tensor[0]}\")\n",
        "print(f\"First column: {tensor[:, 0]}\")\n",
        "print(f\"Last column: {tensor[..., -1]}\")\n",
        "tensor[:,2] = 0 # 2nd index = 0\n",
        "print(tensor)"
      ],
      "metadata": {
        "colab": {
          "base_uri": "https://localhost:8080/"
        },
        "id": "iNlq5JI65I9m",
        "outputId": "9475c53c-4909-48a9-cd81-97f020468af4"
      },
      "execution_count": 9,
      "outputs": [
        {
          "output_type": "stream",
          "name": "stdout",
          "text": [
            "First row: tensor([1., 1., 1., 1., 1.])\n",
            "First column: tensor([1., 1., 1., 1.])\n",
            "Last column: tensor([1., 1., 1., 1.])\n",
            "tensor([[1., 1., 0., 1., 1.],\n",
            "        [1., 1., 0., 1., 1.],\n",
            "        [1., 1., 0., 1., 1.],\n",
            "        [1., 1., 0., 1., 1.]])\n"
          ]
        }
      ]
    },
    {
      "cell_type": "markdown",
      "source": [
        "Joining tensors"
      ],
      "metadata": {
        "id": "3e8eAez05Mzj"
      }
    },
    {
      "cell_type": "code",
      "source": [
        "t1 = torch.cat([tensor, tensor, tensor], dim=1)\n",
        "print(t1)"
      ],
      "metadata": {
        "colab": {
          "base_uri": "https://localhost:8080/"
        },
        "id": "zpegYrU65b-F",
        "outputId": "d20314ae-8b8d-4089-a0ef-11faa89e610d"
      },
      "execution_count": 10,
      "outputs": [
        {
          "output_type": "stream",
          "name": "stdout",
          "text": [
            "tensor([[1., 1., 0., 1., 1., 1., 1., 0., 1., 1., 1., 1., 0., 1., 1.],\n",
            "        [1., 1., 0., 1., 1., 1., 1., 0., 1., 1., 1., 1., 0., 1., 1.],\n",
            "        [1., 1., 0., 1., 1., 1., 1., 0., 1., 1., 1., 1., 0., 1., 1.],\n",
            "        [1., 1., 0., 1., 1., 1., 1., 0., 1., 1., 1., 1., 0., 1., 1.]])\n"
          ]
        }
      ]
    },
    {
      "cell_type": "markdown",
      "source": [
        "Arithmetic Operations"
      ],
      "metadata": {
        "id": "zoPxjdku5dlx"
      }
    },
    {
      "cell_type": "code",
      "source": [
        "# This computes the matrix multiplication between two tensors. y1, y2, y3 will have the same value\n",
        "# ``tensor.T`` returns the transpose of a tensor\n",
        "y1 = tensor @ tensor.T\n",
        "print(f'Y1 = {y1}\\n')\n",
        "y2 = tensor.matmul(tensor.T)\n",
        "print(y1==y2)\n",
        "\n",
        "y3 = torch.rand_like(y1)\n",
        "torch.matmul(tensor, tensor.T, out=y3)\n",
        "print(f'Y3 = {y3}\\n')\n",
        "\n",
        "# This computes the element-wise product. z1, z2, z3 will have the same value\n",
        "z1 = tensor * tensor\n",
        "print(f'z1 = {z1}\\n')\n",
        "z2 = tensor.mul(tensor)\n",
        "\n",
        "z3 = torch.rand_like(tensor)\n",
        "torch.mul(tensor, tensor, out=z3)"
      ],
      "metadata": {
        "colab": {
          "base_uri": "https://localhost:8080/"
        },
        "id": "DRLY_Q6H5q1d",
        "outputId": "99425f29-07fe-4b2e-d993-6677d4aa3f2d"
      },
      "execution_count": 11,
      "outputs": [
        {
          "output_type": "stream",
          "name": "stdout",
          "text": [
            "Y1 = tensor([[4., 4., 4., 4.],\n",
            "        [4., 4., 4., 4.],\n",
            "        [4., 4., 4., 4.],\n",
            "        [4., 4., 4., 4.]])\n",
            "\n",
            "tensor([[True, True, True, True],\n",
            "        [True, True, True, True],\n",
            "        [True, True, True, True],\n",
            "        [True, True, True, True]])\n",
            "Y3 = tensor([[4., 4., 4., 4.],\n",
            "        [4., 4., 4., 4.],\n",
            "        [4., 4., 4., 4.],\n",
            "        [4., 4., 4., 4.]])\n",
            "\n",
            "z1 = tensor([[1., 1., 0., 1., 1.],\n",
            "        [1., 1., 0., 1., 1.],\n",
            "        [1., 1., 0., 1., 1.],\n",
            "        [1., 1., 0., 1., 1.]])\n",
            "\n"
          ]
        },
        {
          "output_type": "execute_result",
          "data": {
            "text/plain": [
              "tensor([[1., 1., 0., 1., 1.],\n",
              "        [1., 1., 0., 1., 1.],\n",
              "        [1., 1., 0., 1., 1.],\n",
              "        [1., 1., 0., 1., 1.]])"
            ]
          },
          "metadata": {},
          "execution_count": 11
        }
      ]
    },
    {
      "cell_type": "markdown",
      "source": [
        "Single element tensors"
      ],
      "metadata": {
        "id": "o7ZtCbVe5tK_"
      }
    },
    {
      "cell_type": "code",
      "source": [
        "agg = tensor.sum()\n",
        "print(agg)\n",
        "agg_item = agg.item()\n",
        "print(agg_item, type(agg_item))"
      ],
      "metadata": {
        "colab": {
          "base_uri": "https://localhost:8080/"
        },
        "id": "l9q6fdy36ZMY",
        "outputId": "00c0261f-c45a-4d7e-a1d6-beb637d5fede"
      },
      "execution_count": 12,
      "outputs": [
        {
          "output_type": "stream",
          "name": "stdout",
          "text": [
            "tensor(16.)\n",
            "16.0 <class 'float'>\n"
          ]
        }
      ]
    },
    {
      "cell_type": "markdown",
      "source": [
        "In-place operations"
      ],
      "metadata": {
        "id": "py2wfktz6am-"
      }
    },
    {
      "cell_type": "code",
      "source": [
        "print(f\"{tensor} \\n\")\n",
        "tensor.add_(10)\n",
        "print(tensor)"
      ],
      "metadata": {
        "colab": {
          "base_uri": "https://localhost:8080/"
        },
        "id": "NXxwHuWs6na4",
        "outputId": "3b97051f-1c2b-4288-b356-4a44ee3c949c"
      },
      "execution_count": 13,
      "outputs": [
        {
          "output_type": "stream",
          "name": "stdout",
          "text": [
            "tensor([[1., 1., 0., 1., 1.],\n",
            "        [1., 1., 0., 1., 1.],\n",
            "        [1., 1., 0., 1., 1.],\n",
            "        [1., 1., 0., 1., 1.]]) \n",
            "\n",
            "tensor([[11., 11., 10., 11., 11.],\n",
            "        [11., 11., 10., 11., 11.],\n",
            "        [11., 11., 10., 11., 11.],\n",
            "        [11., 11., 10., 11., 11.]])\n"
          ]
        }
      ]
    },
    {
      "cell_type": "markdown",
      "source": [
        "## Bridge with NumPy"
      ],
      "metadata": {
        "id": "a4gUrdp46pq_"
      }
    },
    {
      "cell_type": "markdown",
      "source": [
        "Tensor to NumPy Array"
      ],
      "metadata": {
        "id": "5O21jBX87FEV"
      }
    },
    {
      "cell_type": "code",
      "source": [
        "t = torch.ones(2,3)\n",
        "print(f\"t: {t}\")\n",
        "n = t.numpy()\n",
        "print(f\"n: {n}\")"
      ],
      "metadata": {
        "colab": {
          "base_uri": "https://localhost:8080/"
        },
        "id": "tbxauHPH62p5",
        "outputId": "74a5c264-28fd-4509-84e8-e3264783d86b"
      },
      "execution_count": 14,
      "outputs": [
        {
          "output_type": "stream",
          "name": "stdout",
          "text": [
            "t: tensor([[1., 1., 1.],\n",
            "        [1., 1., 1.]])\n",
            "n: [[1. 1. 1.]\n",
            " [1. 1. 1.]]\n"
          ]
        }
      ]
    },
    {
      "cell_type": "code",
      "source": [
        "t.add_(1)\n",
        "print(f\"t: {t}\")\n",
        "print(f\"n: {n}\")"
      ],
      "metadata": {
        "colab": {
          "base_uri": "https://localhost:8080/"
        },
        "id": "lGfJApRw68J7",
        "outputId": "0bc77d5e-db03-4bcd-8c4a-765ac4a4e267"
      },
      "execution_count": 15,
      "outputs": [
        {
          "output_type": "stream",
          "name": "stdout",
          "text": [
            "t: tensor([[2., 2., 2.],\n",
            "        [2., 2., 2.]])\n",
            "n: [[2. 2. 2.]\n",
            " [2. 2. 2.]]\n"
          ]
        }
      ]
    },
    {
      "cell_type": "markdown",
      "source": [
        "NumPy Array to Tensor"
      ],
      "metadata": {
        "id": "x6KJgU3a7At1"
      }
    },
    {
      "cell_type": "code",
      "source": [
        "n = np.ones([2, 3])\n",
        "print(f\"n: {n}\")\n",
        "t = torch.from_numpy(n)\n",
        "print(f\"t: {t}\")"
      ],
      "metadata": {
        "colab": {
          "base_uri": "https://localhost:8080/"
        },
        "id": "Pglouc0z7My5",
        "outputId": "c0b77b85-c49d-4ddd-c49a-3ba6f1579455"
      },
      "execution_count": 16,
      "outputs": [
        {
          "output_type": "stream",
          "name": "stdout",
          "text": [
            "n: [[1. 1. 1.]\n",
            " [1. 1. 1.]]\n",
            "t: tensor([[1., 1., 1.],\n",
            "        [1., 1., 1.]], dtype=torch.float64)\n"
          ]
        }
      ]
    },
    {
      "cell_type": "code",
      "source": [
        "np.add(n, 1, out=n)\n",
        "print(f\"t: {t}\")\n",
        "print(f\"n: {n}\")"
      ],
      "metadata": {
        "colab": {
          "base_uri": "https://localhost:8080/"
        },
        "id": "28lGsEaX7PBv",
        "outputId": "5f4fe3f3-9f64-4537-b2f0-368db50e9326"
      },
      "execution_count": 17,
      "outputs": [
        {
          "output_type": "stream",
          "name": "stdout",
          "text": [
            "t: tensor([[2., 2., 2.],\n",
            "        [2., 2., 2.]], dtype=torch.float64)\n",
            "n: [[2. 2. 2.]\n",
            " [2. 2. 2.]]\n"
          ]
        }
      ]
    },
    {
      "cell_type": "markdown",
      "source": [
        "Changes in the NumPy array reflects in the tensor and vice versa."
      ],
      "metadata": {
        "id": "t5Bs-q3t7hos"
      }
    }
  ]
}