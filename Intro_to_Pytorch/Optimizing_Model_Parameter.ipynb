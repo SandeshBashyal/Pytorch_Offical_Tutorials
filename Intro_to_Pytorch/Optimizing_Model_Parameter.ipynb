{
  "nbformat": 4,
  "nbformat_minor": 0,
  "metadata": {
    "colab": {
      "provenance": [],
      "authorship_tag": "ABX9TyMzWer6fhDfKxtI+Z/Zt2So",
      "include_colab_link": true
    },
    "kernelspec": {
      "name": "python3",
      "display_name": "Python 3"
    },
    "language_info": {
      "name": "python"
    }
  },
  "cells": [
    {
      "cell_type": "markdown",
      "metadata": {
        "id": "view-in-github",
        "colab_type": "text"
      },
      "source": [
        "<a href=\"https://colab.research.google.com/github/SandeshBashyal/Pytorch_Offical_Tutorials/blob/main/Optimizing_Model_Parameter.ipynb\" target=\"_parent\"><img src=\"https://colab.research.google.com/assets/colab-badge.svg\" alt=\"Open In Colab\"/></a>"
      ]
    },
    {
      "cell_type": "markdown",
      "source": [
        "# Optimizing Model Parameter"
      ],
      "metadata": {
        "id": "5v6eViCIZRy3"
      }
    },
    {
      "cell_type": "markdown",
      "source": [
        "Training a model is an iterative process; in each iteration the model makes a guess about the output, calculates the error in its guess (loss), collects the derivatives of the error with respect to its parameters (as we saw in the previous section), and optimizes these parameters using gradient descent."
      ],
      "metadata": {
        "id": "nbIJbzFPeIf_"
      }
    },
    {
      "cell_type": "markdown",
      "source": [
        "## Prerequisite Code"
      ],
      "metadata": {
        "id": "xZIpHaGLMBNe"
      }
    },
    {
      "cell_type": "code",
      "source": [
        "import torch\n",
        "from torch import nn\n",
        "from torch.utils.data import DataLoader\n",
        "from torchvision import datasets\n",
        "from torchvision.transforms import ToTensor\n",
        "\n",
        "training_data = datasets.FashionMNIST(\n",
        "    root=\"data\",\n",
        "    train=True,\n",
        "    download=True,\n",
        "    transform=ToTensor()\n",
        ")\n",
        "\n",
        "test_data = datasets.FashionMNIST(\n",
        "    root=\"data\",\n",
        "    train=False,\n",
        "    download=True,\n",
        "    transform=ToTensor()\n",
        ")\n",
        "\n",
        "train_dataloader = DataLoader(training_data, batch_size=64)\n",
        "test_dataloader = DataLoader(test_data, batch_size=64)\n",
        "\n",
        "class NeuralNetwork(nn.Module):\n",
        "    def __init__(self):\n",
        "        super(NeuralNetwork, self).__init__()\n",
        "        self.flatten = nn.Flatten()\n",
        "        self.linear_relu_stack = nn.Sequential(\n",
        "            nn.Linear(28*28, 512),\n",
        "            nn.ReLU(),\n",
        "            nn.Linear(512, 512),\n",
        "            nn.ReLU(),\n",
        "            nn.Linear(512, 10),\n",
        "        )\n",
        "\n",
        "    def forward(self, x):\n",
        "        x = self.flatten(x)\n",
        "        logits = self.linear_relu_stack(x)\n",
        "        return logits\n",
        "\n",
        "model = NeuralNetwork()"
      ],
      "metadata": {
        "colab": {
          "base_uri": "https://localhost:8080/"
        },
        "id": "uV_4V1lnLxKn",
        "outputId": "3b493003-85fe-4ffa-8a24-61f52cab543e"
      },
      "execution_count": 1,
      "outputs": [
        {
          "output_type": "stream",
          "name": "stdout",
          "text": [
            "Downloading http://fashion-mnist.s3-website.eu-central-1.amazonaws.com/train-images-idx3-ubyte.gz\n",
            "Downloading http://fashion-mnist.s3-website.eu-central-1.amazonaws.com/train-images-idx3-ubyte.gz to data/FashionMNIST/raw/train-images-idx3-ubyte.gz\n"
          ]
        },
        {
          "output_type": "stream",
          "name": "stderr",
          "text": [
            "100%|██████████| 26421880/26421880 [00:01<00:00, 17106283.29it/s]\n"
          ]
        },
        {
          "output_type": "stream",
          "name": "stdout",
          "text": [
            "Extracting data/FashionMNIST/raw/train-images-idx3-ubyte.gz to data/FashionMNIST/raw\n",
            "\n",
            "Downloading http://fashion-mnist.s3-website.eu-central-1.amazonaws.com/train-labels-idx1-ubyte.gz\n",
            "Downloading http://fashion-mnist.s3-website.eu-central-1.amazonaws.com/train-labels-idx1-ubyte.gz to data/FashionMNIST/raw/train-labels-idx1-ubyte.gz\n"
          ]
        },
        {
          "output_type": "stream",
          "name": "stderr",
          "text": [
            "100%|██████████| 29515/29515 [00:00<00:00, 310122.18it/s]\n"
          ]
        },
        {
          "output_type": "stream",
          "name": "stdout",
          "text": [
            "Extracting data/FashionMNIST/raw/train-labels-idx1-ubyte.gz to data/FashionMNIST/raw\n",
            "\n",
            "Downloading http://fashion-mnist.s3-website.eu-central-1.amazonaws.com/t10k-images-idx3-ubyte.gz\n",
            "Downloading http://fashion-mnist.s3-website.eu-central-1.amazonaws.com/t10k-images-idx3-ubyte.gz to data/FashionMNIST/raw/t10k-images-idx3-ubyte.gz\n"
          ]
        },
        {
          "output_type": "stream",
          "name": "stderr",
          "text": [
            "100%|██████████| 4422102/4422102 [00:00<00:00, 5493285.82it/s]\n"
          ]
        },
        {
          "output_type": "stream",
          "name": "stdout",
          "text": [
            "Extracting data/FashionMNIST/raw/t10k-images-idx3-ubyte.gz to data/FashionMNIST/raw\n",
            "\n",
            "Downloading http://fashion-mnist.s3-website.eu-central-1.amazonaws.com/t10k-labels-idx1-ubyte.gz\n",
            "Downloading http://fashion-mnist.s3-website.eu-central-1.amazonaws.com/t10k-labels-idx1-ubyte.gz to data/FashionMNIST/raw/t10k-labels-idx1-ubyte.gz\n"
          ]
        },
        {
          "output_type": "stream",
          "name": "stderr",
          "text": [
            "100%|██████████| 5148/5148 [00:00<00:00, 21700780.90it/s]"
          ]
        },
        {
          "output_type": "stream",
          "name": "stdout",
          "text": [
            "Extracting data/FashionMNIST/raw/t10k-labels-idx1-ubyte.gz to data/FashionMNIST/raw\n",
            "\n"
          ]
        },
        {
          "output_type": "stream",
          "name": "stderr",
          "text": [
            "\n"
          ]
        }
      ]
    },
    {
      "cell_type": "markdown",
      "source": [
        "## Hyperparameters"
      ],
      "metadata": {
        "id": "msUfP5jpMWu9"
      }
    },
    {
      "cell_type": "markdown",
      "source": [
        "1. `Number of Epochs` - the number times to iterate over the dataset\n",
        "\n",
        "    epochs = 5\n",
        "\n",
        "2. `Batch Size` - the number of data samples propagated through the network before the parameters are updated\n",
        "\n",
        "    batch_size = 64\n",
        "\n",
        "3. `Learning Rate` - how much to update models parameters at each batch/epoch. Smaller values yield slow learning speed, while large values may result in unpredictable behavior during training.\n",
        "\n",
        "    learning_rate = 1e-3"
      ],
      "metadata": {
        "id": "lijPxqHFMZpq"
      }
    },
    {
      "cell_type": "markdown",
      "source": [
        "## Optimization Loop"
      ],
      "metadata": {
        "id": "VqzMz0jpNUaR"
      }
    },
    {
      "cell_type": "markdown",
      "source": [
        "Each epoch consists of two main parts:\n",
        "\n",
        "1. `The Train Loop` - iterate over the training dataset and try to converge to optimal parameters.\n",
        "\n",
        "2. `The Validation/Test Loop` - iterate over the test dataset to check if model performance is improving."
      ],
      "metadata": {
        "id": "ywY_2VqGNfVk"
      }
    },
    {
      "cell_type": "markdown",
      "source": [
        "### Loss Function"
      ],
      "metadata": {
        "id": "PPYTINywNaiQ"
      }
    },
    {
      "cell_type": "markdown",
      "source": [
        "Loss function measures the degree of dissimilarity of obtained result to the target value, and it is the loss function that we want to minimize during training. To calculate the loss we make a prediction using the inputs of our given data sample and compare it against the true data label value.\n",
        "\n",
        "Loss function: https://pytorch.org/docs/stable/nn.html#loss-functions\n",
        "\n",
        " #Initialize the loss function\n",
        "\n",
        "loss_fn = nn.CrossEntropyLoss()"
      ],
      "metadata": {
        "id": "6N1Ko9IdN-iD"
      }
    },
    {
      "cell_type": "markdown",
      "source": [
        "### Optimizer"
      ],
      "metadata": {
        "id": "fBI_H3v3Onrb"
      }
    },
    {
      "cell_type": "markdown",
      "source": [
        "Optimization is the process of adjusting model parameters to reduce model error in each training step. Optimization algorithms define how this process is performed.\n",
        "\n",
        "Optimizers: https://pytorch.org/docs/stable/optim.html\n",
        "\n",
        "`optimizer = torch.optim.SGD(model.parameters(), lr=learning_rate)`"
      ],
      "metadata": {
        "id": "Prrk9TIJOsjo"
      }
    },
    {
      "cell_type": "markdown",
      "source": [
        "Inside the training loop, optimization happens in three steps:\n",
        "\n",
        "1. Call `optimizer.zero_grad()` to reset the gradients of model parameters. Gradients by default add up; to prevent double-counting, we explicitly zero them at each iteration.\n",
        "\n",
        "2. Backpropagate the prediction loss with a call to `loss.backward()`. PyTorch deposits the gradients of the loss w.r.t. each parameter.\n",
        "\n",
        "3. Once we have our gradients, we call `optimizer.step()` to adjust the parameters by the gradients collected in the backward pass."
      ],
      "metadata": {
        "id": "WMhygRWZPPlh"
      }
    },
    {
      "cell_type": "markdown",
      "source": [
        "## Full Implementation"
      ],
      "metadata": {
        "id": "uU38vqNkPi_o"
      }
    },
    {
      "cell_type": "markdown",
      "source": [
        "We define train_loop that loops over our optimization code, and test_loop that evaluates the model’s performance against our test data."
      ],
      "metadata": {
        "id": "v5RQNJjePmam"
      }
    },
    {
      "cell_type": "code",
      "source": [
        "def train_loop(dataloader, model, loss_fn, optimizer):\n",
        "    size = len(dataloader.dataset)\n",
        "    # Set the model to training mode - important for batch normalization and dropout layers\n",
        "    # Unnecessary in this situation but added for best practices\n",
        "    model.train()\n",
        "    for batch, (X, y) in enumerate(dataloader):\n",
        "        # Compute prediction and loss\n",
        "        pred = model(X)\n",
        "        loss = loss_fn(pred, y)\n",
        "\n",
        "        # Backpropagation\n",
        "        loss.backward()\n",
        "        optimizer.step()\n",
        "        optimizer.zero_grad()\n",
        "\n",
        "        if batch % 100 == 0:\n",
        "            loss, current = loss.item(), (batch + 1) * len(X)\n",
        "            print(f\"loss: {loss:>7f}  [{current:>5d}/{size:>5d}]\")\n",
        "\n",
        "\n",
        "def test_loop(dataloader, model, loss_fn):\n",
        "    # Set the model to evaluation mode - important for batch normalization and dropout layers\n",
        "    # Unnecessary in this situation but added for best practices\n",
        "    model.eval()\n",
        "    size = len(dataloader.dataset)\n",
        "    num_batches = len(dataloader)\n",
        "    test_loss, correct = 0, 0\n",
        "\n",
        "    # Evaluating the model with torch.no_grad() ensures that no gradients are computed during test mode\n",
        "    # also serves to reduce unnecessary gradient computations and memory usage for tensors with requires_grad=True\n",
        "    with torch.no_grad():\n",
        "        for X, y in dataloader:\n",
        "            pred = model(X)\n",
        "            test_loss += loss_fn(pred, y).item()\n",
        "            correct += (pred.argmax(1) == y).type(torch.float).sum().item()\n",
        "\n",
        "    test_loss /= num_batches\n",
        "    correct /= size\n",
        "    print(f\"Test Error: \\n Accuracy: {(100*correct):>0.1f}%, Avg loss: {test_loss:>8f} \\n\")"
      ],
      "metadata": {
        "id": "rX1BLDbmP0in"
      },
      "execution_count": 2,
      "outputs": []
    },
    {
      "cell_type": "code",
      "source": [
        "loss_fn = nn.CrossEntropyLoss()\n",
        "learning_rate = 1e-3\n",
        "optimizer = torch.optim.SGD(model.parameters(), lr=learning_rate)\n",
        "\n",
        "epochs = 10\n",
        "for t in range(epochs):\n",
        "    print(f\"Epoch {t+1}\\n-------------------------------\")\n",
        "    train_loop(train_dataloader, model, loss_fn, optimizer)\n",
        "    test_loop(test_dataloader, model, loss_fn)\n",
        "print(\"Done!\")"
      ],
      "metadata": {
        "colab": {
          "base_uri": "https://localhost:8080/"
        },
        "id": "w6_YqqiZP2Sn",
        "outputId": "fe55fdb1-7be2-4990-830e-18dd91966e6e"
      },
      "execution_count": 3,
      "outputs": [
        {
          "output_type": "stream",
          "name": "stdout",
          "text": [
            "Epoch 1\n",
            "-------------------------------\n",
            "loss: 2.296728  [   64/60000]\n",
            "loss: 2.288447  [ 6464/60000]\n",
            "loss: 2.273647  [12864/60000]\n",
            "loss: 2.268656  [19264/60000]\n",
            "loss: 2.250885  [25664/60000]\n",
            "loss: 2.221303  [32064/60000]\n",
            "loss: 2.222834  [38464/60000]\n",
            "loss: 2.190651  [44864/60000]\n",
            "loss: 2.183578  [51264/60000]\n",
            "loss: 2.154458  [57664/60000]\n",
            "Test Error: \n",
            " Accuracy: 55.2%, Avg loss: 2.148964 \n",
            "\n",
            "Epoch 2\n",
            "-------------------------------\n",
            "loss: 2.155740  [   64/60000]\n",
            "loss: 2.150508  [ 6464/60000]\n",
            "loss: 2.102561  [12864/60000]\n",
            "loss: 2.112065  [19264/60000]\n",
            "loss: 2.061265  [25664/60000]\n",
            "loss: 2.001816  [32064/60000]\n",
            "loss: 2.017304  [38464/60000]\n",
            "loss: 1.945371  [44864/60000]\n",
            "loss: 1.946557  [51264/60000]\n",
            "loss: 1.867633  [57664/60000]\n",
            "Test Error: \n",
            " Accuracy: 56.1%, Avg loss: 1.874159 \n",
            "\n",
            "Epoch 3\n",
            "-------------------------------\n",
            "loss: 1.910181  [   64/60000]\n",
            "loss: 1.883462  [ 6464/60000]\n",
            "loss: 1.776849  [12864/60000]\n",
            "loss: 1.800457  [19264/60000]\n",
            "loss: 1.694835  [25664/60000]\n",
            "loss: 1.650718  [32064/60000]\n",
            "loss: 1.653820  [38464/60000]\n",
            "loss: 1.566560  [44864/60000]\n",
            "loss: 1.589840  [51264/60000]\n",
            "loss: 1.477240  [57664/60000]\n",
            "Test Error: \n",
            " Accuracy: 59.5%, Avg loss: 1.503983 \n",
            "\n",
            "Epoch 4\n",
            "-------------------------------\n",
            "loss: 1.575595  [   64/60000]\n",
            "loss: 1.542094  [ 6464/60000]\n",
            "loss: 1.402081  [12864/60000]\n",
            "loss: 1.461485  [19264/60000]\n",
            "loss: 1.346830  [25664/60000]\n",
            "loss: 1.346315  [32064/60000]\n",
            "loss: 1.350335  [38464/60000]\n",
            "loss: 1.278764  [44864/60000]\n",
            "loss: 1.317312  [51264/60000]\n",
            "loss: 1.216377  [57664/60000]\n",
            "Test Error: \n",
            " Accuracy: 63.0%, Avg loss: 1.244076 \n",
            "\n",
            "Epoch 5\n",
            "-------------------------------\n",
            "loss: 1.325194  [   64/60000]\n",
            "loss: 1.305138  [ 6464/60000]\n",
            "loss: 1.147544  [12864/60000]\n",
            "loss: 1.247425  [19264/60000]\n",
            "loss: 1.122103  [25664/60000]\n",
            "loss: 1.149378  [32064/60000]\n",
            "loss: 1.167685  [38464/60000]\n",
            "loss: 1.101907  [44864/60000]\n",
            "loss: 1.146565  [51264/60000]\n",
            "loss: 1.063845  [57664/60000]\n",
            "Test Error: \n",
            " Accuracy: 64.8%, Avg loss: 1.083377 \n",
            "\n",
            "Epoch 6\n",
            "-------------------------------\n",
            "loss: 1.159332  [   64/60000]\n",
            "loss: 1.156042  [ 6464/60000]\n",
            "loss: 0.981083  [12864/60000]\n",
            "loss: 1.114082  [19264/60000]\n",
            "loss: 0.982734  [25664/60000]\n",
            "loss: 1.016611  [32064/60000]\n",
            "loss: 1.054125  [38464/60000]\n",
            "loss: 0.989283  [44864/60000]\n",
            "loss: 1.034291  [51264/60000]\n",
            "loss: 0.967192  [57664/60000]\n",
            "Test Error: \n",
            " Accuracy: 66.5%, Avg loss: 0.978798 \n",
            "\n",
            "Epoch 7\n",
            "-------------------------------\n",
            "loss: 1.043957  [   64/60000]\n",
            "loss: 1.058467  [ 6464/60000]\n",
            "loss: 0.866874  [12864/60000]\n",
            "loss: 1.024438  [19264/60000]\n",
            "loss: 0.893523  [25664/60000]\n",
            "loss: 0.922393  [32064/60000]\n",
            "loss: 0.978329  [38464/60000]\n",
            "loss: 0.915565  [44864/60000]\n",
            "loss: 0.955016  [51264/60000]\n",
            "loss: 0.901210  [57664/60000]\n",
            "Test Error: \n",
            " Accuracy: 67.6%, Avg loss: 0.906500 \n",
            "\n",
            "Epoch 8\n",
            "-------------------------------\n",
            "loss: 0.958029  [   64/60000]\n",
            "loss: 0.989884  [ 6464/60000]\n",
            "loss: 0.784437  [12864/60000]\n",
            "loss: 0.960163  [19264/60000]\n",
            "loss: 0.833035  [25664/60000]\n",
            "loss: 0.852655  [32064/60000]\n",
            "loss: 0.923672  [38464/60000]\n",
            "loss: 0.865556  [44864/60000]\n",
            "loss: 0.896567  [51264/60000]\n",
            "loss: 0.852744  [57664/60000]\n",
            "Test Error: \n",
            " Accuracy: 68.9%, Avg loss: 0.853862 \n",
            "\n",
            "Epoch 9\n",
            "-------------------------------\n",
            "loss: 0.891270  [   64/60000]\n",
            "loss: 0.938073  [ 6464/60000]\n",
            "loss: 0.722795  [12864/60000]\n",
            "loss: 0.911691  [19264/60000]\n",
            "loss: 0.789569  [25664/60000]\n",
            "loss: 0.799688  [32064/60000]\n",
            "loss: 0.881626  [38464/60000]\n",
            "loss: 0.830135  [44864/60000]\n",
            "loss: 0.851860  [51264/60000]\n",
            "loss: 0.814864  [57664/60000]\n",
            "Test Error: \n",
            " Accuracy: 70.0%, Avg loss: 0.813600 \n",
            "\n",
            "Epoch 10\n",
            "-------------------------------\n",
            "loss: 0.837266  [   64/60000]\n",
            "loss: 0.896561  [ 6464/60000]\n",
            "loss: 0.674625  [12864/60000]\n",
            "loss: 0.873820  [19264/60000]\n",
            "loss: 0.756671  [25664/60000]\n",
            "loss: 0.758585  [32064/60000]\n",
            "loss: 0.847217  [38464/60000]\n",
            "loss: 0.804011  [44864/60000]\n",
            "loss: 0.816548  [51264/60000]\n",
            "loss: 0.783777  [57664/60000]\n",
            "Test Error: \n",
            " Accuracy: 71.3%, Avg loss: 0.781428 \n",
            "\n",
            "Done!\n"
          ]
        }
      ]
    }
  ]
}