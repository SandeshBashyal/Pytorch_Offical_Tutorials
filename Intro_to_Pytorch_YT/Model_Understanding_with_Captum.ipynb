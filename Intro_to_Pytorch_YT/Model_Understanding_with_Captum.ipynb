{
  "nbformat": 4,
  "nbformat_minor": 0,
  "metadata": {
    "colab": {
      "provenance": [],
      "authorship_tag": "ABX9TyMXtcrkOPpPqH9ZokrLTAUF"
    },
    "kernelspec": {
      "name": "python3",
      "display_name": "Python 3"
    },
    "language_info": {
      "name": "python"
    }
  },
  "cells": [
    {
      "cell_type": "markdown",
      "source": [
        "# Model Understanding with Captum"
      ],
      "metadata": {
        "id": "Z4_o7mynvwkG"
      }
    },
    {
      "cell_type": "markdown",
      "source": [
        "Try in notebook"
      ],
      "metadata": {
        "id": "Hk8afSmR76aA"
      }
    },
    {
      "cell_type": "markdown",
      "source": [
        "https://pytorch.org/tutorials/beginner/introyt/captumyt.html"
      ],
      "metadata": {
        "id": "zWl-d1MU3HQv"
      }
    },
    {
      "cell_type": "markdown",
      "source": [
        "`Captum` (“comprehension” in Latin) is an open source, extensible library for model interpretability built on PyTorch.\n",
        "\n",
        "With the increase in model complexity and the resulting lack of transparency, model interpretability methods have become increasingly important. Model understanding is both an active area of research as well as an area of focus for practical applications across industries using machine learning. Captum provides state-of-the-art algorithms, including Integrated Gradients, to provide researchers and developers with an easy way to understand which features are contributing to a model’s output.\n",
        "\n",
        "https://captum.ai/"
      ],
      "metadata": {
        "id": "4smmskzDv8aB"
      }
    },
    {
      "cell_type": "markdown",
      "source": [
        "## Introduction"
      ],
      "metadata": {
        "id": "R_bmaq3BwR_r"
      }
    },
    {
      "cell_type": "markdown",
      "source": [
        "3 kinds of attributions of Captum:\n",
        "\n",
        "1. **Feature Attribution** seeks to explain a particular output in terms of features of the input that generated it. Explaining whether a movie review was positive or negative in terms of certain words in the review is an example of feature attribution.\n",
        "\n",
        "2. **Layer Attribution** examines the activity of a model’s hidden layer subsequent to a particular input. Examining the spatially-mapped output of a convolutional layer in response to an input image in an example of layer attribution.\n",
        "\n",
        "3. **Neuron Attribution** is analagous to layer attribution, but focuses on the activity of a single neuron."
      ],
      "metadata": {
        "id": "fAqTrqa_wczv"
      }
    },
    {
      "cell_type": "markdown",
      "source": [
        "Each of the three attribution types has multiple attribution algorithms associated with it and into two broad categories:\n",
        "\n",
        "1. **Gradient-based** algorithms calculate the backward gradients of a model output, layer output, or neuron activation with respect to the input. Integrated Gradients (for features), Layer Gradient * Activation, and Neuron Conductance are all gradient-based algorithms.\n",
        "\n",
        "2. **Perturbation-based** algorithms examine the changes in the output of a model, layer, or neuron in response to changes in the input. The input perturbations may be directed or random. Occlusion, Feature Ablation, and Feature Permutation are all perturbation-based algorithms."
      ],
      "metadata": {
        "id": "xblQiwCqxSHb"
      }
    },
    {
      "cell_type": "markdown",
      "source": [
        "Similarly for visualization:\n",
        "\n",
        "1. The `captum.attr.visualization` module (imported below as `viz`) provides helpful functions for visualizing attributions related to images.\n",
        "\n",
        "2. **Captum Insights** is an easy-to-use API on top of Captum that provides a visualization widget with ready-made visualizations for image, text, and arbitrary model types."
      ],
      "metadata": {
        "id": "g8Ki3I-zxv11"
      }
    },
    {
      "cell_type": "markdown",
      "source": [
        "## Installation"
      ],
      "metadata": {
        "id": "LRigPciRyE_O"
      }
    },
    {
      "cell_type": "code",
      "source": [
        "!pip install torch torchvision captum matplotlib==3.3.4 Flask-Compress"
      ],
      "metadata": {
        "id": "XVfM9p6VyQ_1"
      },
      "execution_count": null,
      "outputs": []
    },
    {
      "cell_type": "markdown",
      "source": [
        "## A First Example"
      ],
      "metadata": {
        "id": "md68ySsyybLj"
      }
    },
    {
      "cell_type": "markdown",
      "source": [
        "**Visual Example**"
      ],
      "metadata": {
        "id": "nmgKzAFuyh8_"
      }
    },
    {
      "cell_type": "code",
      "source": [
        "import torch\n",
        "import torch.nn.functional as F\n",
        "import torchvision.transforms as transforms\n",
        "import torchvision.models as models\n",
        "\n",
        "import captum\n",
        "from captum.attr import IntegratedGradients, Occlusion, LayerGradCam, LayerAttribution\n",
        "from captum.attr import visualization as viz\n",
        "\n",
        "import os, sys\n",
        "import json\n",
        "\n",
        "import numpy as np\n",
        "from PIL import Image\n",
        "import matplotlib.pyplot as plt\n",
        "from matplotlib.colors import LinearSegmentedColormap"
      ],
      "metadata": {
        "id": "_tSYLrEKyqRG"
      },
      "execution_count": null,
      "outputs": []
    },
    {
      "cell_type": "code",
      "source": [
        "model = models.resnet18(weights='IMAGENET1K_V1')\n",
        "model = model.eval()"
      ],
      "metadata": {
        "id": "kc_-fSPSy0R1"
      },
      "execution_count": null,
      "outputs": []
    },
    {
      "cell_type": "code",
      "source": [
        "# Go to folder in left side and add files from video7\n",
        "\n",
        "test_img = Image.open('cat.jpg')\n",
        "test_img_data = np.asarray(test_img)\n",
        "plt.imshow(test_img_data)\n",
        "plt.show()"
      ],
      "metadata": {
        "id": "h7bXuTbBy1JL"
      },
      "execution_count": null,
      "outputs": []
    },
    {
      "cell_type": "code",
      "source": [
        "# model expects 224x224 3-color image\n",
        "transform = transforms.Compose([\n",
        " transforms.Resize(224),\n",
        " transforms.CenterCrop(224),\n",
        " transforms.ToTensor()\n",
        "])\n",
        "\n",
        "# standard ImageNet normalization\n",
        "transform_normalize = transforms.Normalize(\n",
        "     mean=[0.485, 0.456, 0.406],\n",
        "     std=[0.229, 0.224, 0.225]\n",
        " )\n",
        "\n",
        "transformed_img = transform(test_img)\n",
        "input_img = transform_normalize(transformed_img)\n",
        "input_img = input_img.unsqueeze(0) # the model requires a dummy batch dimension\n",
        "\n",
        "labels_path = 'imagenet_class_index.json'\n",
        "with open(labels_path) as json_data:\n",
        "    idx_to_labels = json.load(json_data)"
      ],
      "metadata": {
        "id": "171tMDWDz9EF"
      },
      "execution_count": null,
      "outputs": []
    },
    {
      "cell_type": "code",
      "source": [
        "output = model(input_img)\n",
        "output = F.softmax(output, dim=1)\n",
        "prediction_score, pred_label_idx = torch.topk(output, 1)\n",
        "pred_label_idx.squeeze_()\n",
        "predicted_label = idx_to_labels[str(pred_label_idx.item())][1]\n",
        "print('Predicted:', predicted_label, '(', prediction_score.squeeze().item(), ')')"
      ],
      "metadata": {
        "id": "0fK_22Ru0HxF"
      },
      "execution_count": null,
      "outputs": []
    },
    {
      "cell_type": "markdown",
      "source": [
        "## Feature Attribution with Integrated Gradients"
      ],
      "metadata": {
        "id": "rZdPHiO70Pn0"
      }
    },
    {
      "cell_type": "markdown",
      "source": [
        "Feature attribution attributes a particular output to features of the input. It uses a specific input - here, our test image - to generate a map of the relative importance of each input feature to a particular output feature.\n",
        "\n",
        "[Integrated Gradients](https://captum.ai/api/integrated_gradients.html) is one of the feature attribution algorithms available in Captum. Integrated Gradients assigns an importance score to each input feature by approximating the integral of the gradients of the model’s output with respect to the inputs."
      ],
      "metadata": {
        "id": "tOf3Y4e60Zr7"
      }
    },
    {
      "cell_type": "markdown",
      "source": [
        "In our case, we’re going to be taking a specific element of the output vector - that is, the one indicating the model’s confidence in its chosen category - and use Integrated Gradients to understand what parts of the input image contributed to this output.\n",
        "\n",
        "Once we have the importance map from Integrated Gradients, we’ll use the visualization tools in Captum to give a helpful representation of the importance map. Captum’s `visualize_image_attr()` function provides a variety of options for customizing display of your attribution data. Here, we pass in a custom Matplotlib color map."
      ],
      "metadata": {
        "id": "XFkBubJI2pP0"
      }
    },
    {
      "cell_type": "code",
      "source": [
        "# Initialize the attribution algorithm with the model\n",
        "integrated_gradients = IntegratedGradients(model)\n",
        "\n",
        "# Ask the algorithm to attribute our output target to\n",
        "attributions_ig = integrated_gradients.attribute(input_img, target=pred_label_idx, n_steps=200)\n"
      ],
      "metadata": {
        "id": "ByIUGNrv4OPw"
      },
      "execution_count": null,
      "outputs": []
    },
    {
      "cell_type": "code",
      "source": [
        "# Show the original image for comparison\n",
        "_ = viz.visualize_image_attr(None, np.transpose(transformed_img.squeeze().cpu().detach().numpy(), (1,2,0)),\n",
        "                      method=\"original_image\", title=\"Original Image\")\n",
        "\n",
        "default_cmap = LinearSegmentedColormap.from_list('custom blue',\n",
        "                                                 [(0, '#ffffff'),\n",
        "                                                  (0.25, '#0000ff'),\n",
        "                                                  (1, '#0000ff')], N=256)\n",
        "\n",
        "_ = viz.visualize_image_attr(np.transpose(attributions_ig.squeeze().cpu().detach().numpy(), (1,2,0)),\n",
        "                             np.transpose(transformed_img.squeeze().cpu().detach().numpy(), (1,2,0)),\n",
        "                             method='heat_map',\n",
        "                             cmap=default_cmap,\n",
        "                             show_colorbar=True,\n",
        "                             sign='positive',\n",
        "                             title='Integrated Gradients')"
      ],
      "metadata": {
        "id": "FSK5y9Pn205x"
      },
      "execution_count": null,
      "outputs": []
    },
    {
      "cell_type": "markdown",
      "source": [
        "## Feature Attribution with Occlusion"
      ],
      "metadata": {
        "id": "h7nyo8B42_fJ"
      }
    },
    {
      "cell_type": "markdown",
      "source": [
        "Gradient-based attribution methods help to understand the model in terms of directly computing out the output changes with respect to the input. Perturbation-based attribution methods approach this more directly, by introducing changes to the input to measure the effect on the output. Occlusion is one such method. It involves replacing sections of the input image, and examining the effect on the output signal.\n",
        "\n",
        "Below, we set up Occlusion attribution. Similarly to configuring a convolutional neural network, you can specify the size of the target region, and a stride length to determine the spacing of individual measurements. We’ll visualize the output of our Occlusion attribution with `visualize_image_attr_multiple()`, showing heat maps of both positive and negative attribution by region, and by masking the original image with the positive attribution regions. The masking gives a very instructive view of what regions of our cat photo the model found to be most “cat-like”."
      ],
      "metadata": {
        "id": "2_6d9FOn8X1A"
      }
    },
    {
      "cell_type": "code",
      "source": [
        "occlusion = Occlusion(model)\n",
        "\n",
        "attributions_occ = occlusion.attribute(input_img,\n",
        "                                       target=pred_label_idx,\n",
        "                                       strides=(3, 8, 8),\n",
        "                                       sliding_window_shapes=(3,15, 15),\n",
        "                                       baselines=0)\n",
        "\n",
        "\n",
        "_ = viz.visualize_image_attr_multiple(np.transpose(attributions_occ.squeeze().cpu().detach().numpy(), (1,2,0)),\n",
        "                                      np.transpose(transformed_img.squeeze().cpu().detach().numpy(), (1,2,0)),\n",
        "                                      [\"original_image\", \"heat_map\", \"heat_map\", \"masked_image\"],\n",
        "                                      [\"all\", \"positive\", \"negative\", \"positive\"],\n",
        "                                      show_colorbar=True,\n",
        "                                      titles=[\"Original\", \"Positive Attribution\", \"Negative Attribution\", \"Masked\"],\n",
        "                                      fig_size=(18, 6)\n",
        "                                     )"
      ],
      "metadata": {
        "id": "4snpJvcI3D_5"
      },
      "execution_count": null,
      "outputs": []
    },
    {
      "cell_type": "markdown",
      "source": [
        "## Layer Attribution with Layer GradCAM"
      ],
      "metadata": {
        "id": "gjf_ZlM97g7i"
      }
    },
    {
      "cell_type": "markdown",
      "source": [
        "Layer Attribution allows you to attribute the activity of hidden layers within your model to features of your input.\n",
        "\n",
        "GradCAM computes the gradients of the target output with respect to the given layer, averages for each output channel (dimension 2 of output), and multiplies the average gradient for each channel by the layer activations. The results are summed over all channels. GradCAM is designed for convnets; since the activity of convolutional layers often maps spatially to the input, GradCAM attributions are often upsampled and used to mask the input.\n",
        "\n",
        "Layer attribution is set up similarly to input attribution, except that in addition to the model, you must specify a hidden layer within the model that you wish to examine. As above, when we call `attribute()`, we specify the target class of interest."
      ],
      "metadata": {
        "id": "nO41jsn-8zyP"
      }
    },
    {
      "cell_type": "code",
      "source": [
        "layer_gradcam = LayerGradCam(model, model.layer3[1].conv2)\n",
        "attributions_lgc = layer_gradcam.attribute(input_img, target=pred_label_idx)\n",
        "\n",
        "_ = viz.visualize_image_attr(attributions_lgc[0].cpu().permute(1,2,0).detach().numpy(),\n",
        "                             sign=\"all\",\n",
        "                             title=\"Layer 3 Block 1 Conv 2\")"
      ],
      "metadata": {
        "id": "KWnQOPNF9OLn"
      },
      "execution_count": null,
      "outputs": []
    },
    {
      "cell_type": "code",
      "source": [
        "upsamp_attr_lgc = LayerAttribution.interpolate(attributions_lgc, input_img.shape[2:])\n",
        "\n",
        "print(attributions_lgc.shape)\n",
        "print(upsamp_attr_lgc.shape)\n",
        "print(input_img.shape)\n",
        "\n",
        "_ = viz.visualize_image_attr_multiple(upsamp_attr_lgc[0].cpu().permute(1,2,0).detach().numpy(),\n",
        "                                      transformed_img.permute(1,2,0).numpy(),\n",
        "                                      [\"original_image\",\"blended_heat_map\",\"masked_image\"],\n",
        "                                      [\"all\",\"positive\",\"positive\"],\n",
        "                                      show_colorbar=True,\n",
        "                                      titles=[\"Original\", \"Positive Attribution\", \"Masked\"],\n",
        "                                      fig_size=(18, 6))"
      ],
      "metadata": {
        "id": "UvyEGG0C9Pvk"
      },
      "execution_count": null,
      "outputs": []
    },
    {
      "cell_type": "markdown",
      "source": [
        "## Visualization of Captum Insights"
      ],
      "metadata": {
        "id": "aTL_wYzR9VVa"
      }
    },
    {
      "cell_type": "markdown",
      "source": [
        "Captum Insights is an interpretability visualization widget built on top of Captum to facilitate model understanding. Captum Insights works across images, text, and other features to help users understand feature attribution. It allows you to visualize attribution for multiple input/output pairs, and provides visualization tools for image, text, and arbitrary data."
      ],
      "metadata": {
        "id": "UcniwMqR9Ye8"
      }
    },
    {
      "cell_type": "code",
      "source": [
        "imgs = ['img/cat.jpg', 'img/teapot.jpg', 'img/trilobite.jpg']\n",
        "\n",
        "for img in imgs:\n",
        "    img = Image.open(img)\n",
        "    transformed_img = transform(img)\n",
        "    input_img = transform_normalize(transformed_img)\n",
        "    input_img = input_img.unsqueeze(0) # the model requires a dummy batch dimension\n",
        "\n",
        "    output = model(input_img)\n",
        "    output = F.softmax(output, dim=1)\n",
        "    prediction_score, pred_label_idx = torch.topk(output, 1)\n",
        "    pred_label_idx.squeeze_()\n",
        "    predicted_label = idx_to_labels[str(pred_label_idx.item())][1]\n",
        "    print('Predicted:', predicted_label, '/', pred_label_idx.item(), ' (', prediction_score.squeeze().item(), ')')"
      ],
      "metadata": {
        "id": "8TtSjdNb9g1j"
      },
      "execution_count": null,
      "outputs": []
    },
    {
      "cell_type": "code",
      "source": [
        "from captum.insights import AttributionVisualizer, Batch\n",
        "from captum.insights.attr_vis.features import ImageFeature\n",
        "\n",
        "# Baseline is all-zeros input - this may differ depending on your data\n",
        "def baseline_func(input):\n",
        "    return input * 0\n",
        "\n",
        "# merging our image transforms from above\n",
        "def full_img_transform(input):\n",
        "    i = Image.open(input)\n",
        "    i = transform(i)\n",
        "    i = transform_normalize(i)\n",
        "    i = i.unsqueeze(0)\n",
        "    return i\n",
        "\n",
        "\n",
        "input_imgs = torch.cat(list(map(lambda i: full_img_transform(i), imgs)), 0)\n",
        "\n",
        "visualizer = AttributionVisualizer(\n",
        "    models=[model],\n",
        "    score_func=lambda o: torch.nn.functional.softmax(o, 1),\n",
        "    classes=list(map(lambda k: idx_to_labels[k][1], idx_to_labels.keys())),\n",
        "    features=[\n",
        "        ImageFeature(\n",
        "            \"Photo\",\n",
        "            baseline_transforms=[baseline_func],\n",
        "            input_transforms=[],\n",
        "        )\n",
        "    ],\n",
        "    dataset=[Batch(input_imgs, labels=[282,849,69])]\n",
        ")"
      ],
      "metadata": {
        "id": "dYedw1xW9o-u"
      },
      "execution_count": null,
      "outputs": []
    },
    {
      "cell_type": "code",
      "source": [
        "visualizer.render()"
      ],
      "metadata": {
        "id": "c_KwyT9H9uvs"
      },
      "execution_count": null,
      "outputs": []
    }
  ]
}