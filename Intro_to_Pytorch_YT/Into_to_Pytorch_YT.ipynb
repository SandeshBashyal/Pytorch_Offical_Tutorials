{
  "nbformat": 4,
  "nbformat_minor": 0,
  "metadata": {
    "colab": {
      "provenance": []
    },
    "kernelspec": {
      "name": "python3",
      "display_name": "Python 3"
    },
    "language_info": {
      "name": "python"
    }
  },
  "cells": [
    {
      "cell_type": "markdown",
      "source": [
        "# Introduction to Pytorch from Youtube Playlist"
      ],
      "metadata": {
        "id": "0cqwsjIXgaPp"
      }
    },
    {
      "cell_type": "markdown",
      "source": [
        "Following along with the playlist:"
      ],
      "metadata": {
        "id": "wXAA2W9qgjc-"
      }
    },
    {
      "cell_type": "markdown",
      "source": [
        "## Pytorch Tensors"
      ],
      "metadata": {
        "id": "2gC56c2Ig-cb"
      }
    },
    {
      "cell_type": "code",
      "source": [
        "import torch"
      ],
      "metadata": {
        "id": "SYe7OgnllPCp"
      },
      "execution_count": null,
      "outputs": []
    },
    {
      "cell_type": "code",
      "source": [
        "z = torch.zeros(5,3)\n",
        "print(z)\n",
        "print(z.dtype)"
      ],
      "metadata": {
        "colab": {
          "base_uri": "https://localhost:8080/"
        },
        "id": "yYw1i-gXlRQ1",
        "outputId": "ed528efd-4972-43d1-fb44-084f362e53a6"
      },
      "execution_count": null,
      "outputs": [
        {
          "output_type": "stream",
          "name": "stdout",
          "text": [
            "tensor([[0., 0., 0.],\n",
            "        [0., 0., 0.],\n",
            "        [0., 0., 0.],\n",
            "        [0., 0., 0.],\n",
            "        [0., 0., 0.]])\n",
            "torch.float32\n"
          ]
        }
      ]
    },
    {
      "cell_type": "code",
      "source": [
        "i = torch.ones((5, 3), dtype = torch.int16)\n",
        "print(i)"
      ],
      "metadata": {
        "colab": {
          "base_uri": "https://localhost:8080/"
        },
        "id": "SN0VadBOlZHG",
        "outputId": "086c8348-62a9-4a11-ba66-8ae1ffe17424"
      },
      "execution_count": null,
      "outputs": [
        {
          "output_type": "stream",
          "name": "stdout",
          "text": [
            "tensor([[1, 1, 1],\n",
            "        [1, 1, 1],\n",
            "        [1, 1, 1],\n",
            "        [1, 1, 1],\n",
            "        [1, 1, 1]], dtype=torch.int16)\n"
          ]
        }
      ]
    },
    {
      "cell_type": "code",
      "source": [
        "torch.manual_seed(1729)\n",
        "r1 = torch.rand(2, 2)\n",
        "print('A random tensor:')\n",
        "print(r1)\n",
        "\n",
        "r2 = torch.rand(2, 2)\n",
        "print('\\nA different random tensor:')\n",
        "print(r2) # new values\n",
        "\n",
        "torch.manual_seed(1729)\n",
        "r3 = torch.rand(2, 2)\n",
        "print('\\nShould match r1:')\n",
        "print(r3) # repeats values of r1 because of re-seed"
      ],
      "metadata": {
        "colab": {
          "base_uri": "https://localhost:8080/"
        },
        "id": "aCVqusMulkj-",
        "outputId": "0243a8e8-68fe-4471-d4fe-9cd585cc07b5"
      },
      "execution_count": null,
      "outputs": [
        {
          "output_type": "stream",
          "name": "stdout",
          "text": [
            "A random tensor:\n",
            "tensor([[0.3126, 0.3791],\n",
            "        [0.3087, 0.0736]])\n",
            "\n",
            "A different random tensor:\n",
            "tensor([[0.4216, 0.0691],\n",
            "        [0.2332, 0.4047]])\n",
            "\n",
            "Should match r1:\n",
            "tensor([[0.3126, 0.3791],\n",
            "        [0.3087, 0.0736]])\n"
          ]
        }
      ]
    },
    {
      "cell_type": "code",
      "source": [
        "ones = torch.ones(4,3)\n",
        "print(f'Ones Tensor = {ones}')\n",
        "\n",
        "twos = torch.ones(4,3)*2\n",
        "print(f'Twos Tensor = {twos}')\n",
        "\n",
        "threes = ones + twos\n",
        "print(f'Threes Tensor = {threes}')\n",
        "print(f'Shape = {threes.shape}')\n",
        "\n",
        "r1 = torch.rand(2, 3)\n",
        "r2 = torch.rand(3, 2)\n",
        "# r3 = r1 + r2  this will provide runtime error due to operations performed in different shape"
      ],
      "metadata": {
        "id": "DIaYm4x2l3xH",
        "colab": {
          "base_uri": "https://localhost:8080/"
        },
        "outputId": "1c433e4a-8ced-4c08-8546-dc5708c26a56"
      },
      "execution_count": null,
      "outputs": [
        {
          "output_type": "stream",
          "name": "stdout",
          "text": [
            "Ones Tensor = tensor([[1., 1., 1.],\n",
            "        [1., 1., 1.],\n",
            "        [1., 1., 1.],\n",
            "        [1., 1., 1.]])\n",
            "Twos Tensor = tensor([[2., 2., 2.],\n",
            "        [2., 2., 2.],\n",
            "        [2., 2., 2.],\n",
            "        [2., 2., 2.]])\n",
            "Threes Tensor = tensor([[3., 3., 3.],\n",
            "        [3., 3., 3.],\n",
            "        [3., 3., 3.],\n",
            "        [3., 3., 3.]])\n",
            "Shape = torch.Size([4, 3])\n"
          ]
        }
      ]
    },
    {
      "cell_type": "markdown",
      "source": [
        "Mathematical Operations:"
      ],
      "metadata": {
        "id": "2Eb2FDrjnATp"
      }
    },
    {
      "cell_type": "code",
      "source": [
        "r = (torch.rand(2, 2) - 0.5) * 2 # values between -1 and 1\n",
        "print('A random matrix, r:')\n",
        "print(r)\n",
        "\n",
        "# Common mathematical operations are supported:\n",
        "print('\\nAbsolute value of r:')\n",
        "print(torch.abs(r))\n",
        "\n",
        "# ...as are trigonometric functions:\n",
        "print('\\nInverse sine of r:')\n",
        "print(torch.asin(r))\n",
        "\n",
        "# ...and linear algebra operations like determinant and singular value decomposition\n",
        "print('\\nDeterminant of r:')\n",
        "print(torch.det(r))\n",
        "print('\\nSingular value decomposition of r:')\n",
        "print(torch.svd(r))\n",
        "\n",
        "# ...and statistical and aggregate operations:\n",
        "print('\\nAverage and standard deviation of r:')\n",
        "print(torch.std_mean(r))\n",
        "print('\\nMaximum value of r:')\n",
        "print(torch.max(r))"
      ],
      "metadata": {
        "colab": {
          "base_uri": "https://localhost:8080/"
        },
        "id": "6ylSv2bSnKD1",
        "outputId": "17805020-e947-4f03-abf8-46073c43009d"
      },
      "execution_count": null,
      "outputs": [
        {
          "output_type": "stream",
          "name": "stdout",
          "text": [
            "A random matrix, r:\n",
            "tensor([[ 0.9956, -0.2232],\n",
            "        [ 0.3858, -0.6593]])\n",
            "\n",
            "Absolute value of r:\n",
            "tensor([[0.9956, 0.2232],\n",
            "        [0.3858, 0.6593]])\n",
            "\n",
            "Inverse sine of r:\n",
            "tensor([[ 1.4775, -0.2251],\n",
            "        [ 0.3961, -0.7199]])\n",
            "\n",
            "Determinant of r:\n",
            "tensor(-0.5703)\n",
            "\n",
            "Singular value decomposition of r:\n",
            "torch.return_types.svd(\n",
            "U=tensor([[-0.8353, -0.5497],\n",
            "        [-0.5497,  0.8353]]),\n",
            "S=tensor([1.1793, 0.4836]),\n",
            "V=tensor([[-0.8851, -0.4654],\n",
            "        [ 0.4654, -0.8851]]))\n",
            "\n",
            "Average and standard deviation of r:\n",
            "(tensor(0.7217), tensor(0.1247))\n",
            "\n",
            "Maximum value of r:\n",
            "tensor(0.9956)\n"
          ]
        }
      ]
    },
    {
      "cell_type": "markdown",
      "source": [
        "## Introduction to autograd"
      ],
      "metadata": {
        "id": "ycPAwASNspD4"
      }
    },
    {
      "cell_type": "markdown",
      "source": [
        "`.randn`: Returns a tensor filled with random numbers from a normal distribution with mean 0 and variance 1\n",
        "\n",
        "Simple recurrent neural network (RNN)\n",
        "\n",
        "x  -> Input\n",
        "\n",
        "h  -> Hidden State\n",
        "\n",
        "Wx -> Weights for Input\n",
        "\n",
        "Wh -> Weights for Hidden State"
      ],
      "metadata": {
        "id": "ZQnuKbT24XOO"
      }
    },
    {
      "cell_type": "code",
      "source": [
        "x = torch.randn(1, 10)    # (1, 10) is size of the tensor\n",
        "prev_h = torch.randn(1, 20)\n",
        "W_h = torch.randn(20, 20)\n",
        "W_x = torch.randn(20, 10)\n",
        "\n",
        "\"\"\"tensor.t() Expects input to be <= 2-D tensor and transposes dimensions 0 and 1.\n",
        "0-D and 1-D tensors are returned as is.\n",
        "When input is a 2-D tensor this is equivalent to transpose(input, 0, 1).\"\"\"\n",
        "i2h = torch.mm(W_x, x.t())\n",
        "h2h = torch.mm(W_h, prev_h.t())\n",
        "\n",
        "next_h = i2h + h2h\n",
        "next_h = next_h.tanh()    # activation function\n",
        "\n",
        "loss = next_h.sum()\n",
        "loss.backward()\n",
        "# backprop: gradient wrt the input Tensors is computed step-by-step from loss to top in reverse\n"
      ],
      "metadata": {
        "id": "3NaoZACL5WUt"
      },
      "execution_count": null,
      "outputs": []
    },
    {
      "cell_type": "markdown",
      "source": [
        "Note: Running only above code generates Runtime Error as: element 0 of tensors does not require grad and does not have a grad_fn"
      ],
      "metadata": {
        "id": "kLNjKsU1yQa0"
      }
    },
    {
      "cell_type": "markdown",
      "source": [
        "## Building Models in Pytorch"
      ],
      "metadata": {
        "id": "Vg8CP-UK8MRW"
      }
    },
    {
      "cell_type": "code",
      "source": [
        "import torch                     # for all things PyTorch\n",
        "import torch.nn as nn            # for torch.nn.Module, the parent object for PyTorch models\n",
        "import torch.nn.functional as F  # for the activation function"
      ],
      "metadata": {
        "id": "MXOn_DYU8S05"
      },
      "execution_count": null,
      "outputs": []
    },
    {
      "cell_type": "markdown",
      "source": [
        "The `super()` function is used to give access to methods and properties of a parent or sibling class. It returns an object that represents the parent class. It is often used with the `__init__()` method to initialize the attributes of the parent class."
      ],
      "metadata": {
        "id": "1OR7kP5u_Qun"
      }
    },
    {
      "cell_type": "code",
      "source": [
        "class LeNet(nn.Module):\n",
        "  def __init__(self):\n",
        "    super(LeNet, self).__init__()\n",
        "    # 1 input image channel (black & white), 6 output channels, 5x5 square convolution\n",
        "    self.conv1 = nn.Conv2d(1,6,5)\n",
        "    self.conv2 = nn.Conv2d(6,16,5)\n",
        "    # an affine operation: y = Wx + b\n",
        "    self.fc1 = nn.Linear(16*5*5,120)  # Output channels * Image Dimension\n",
        "    self.fc2 = nn.Linear(120,84)\n",
        "    self.fc3 = nn.Linear(84,10)\n",
        "\n",
        "  def forward(self, x):\n",
        "    # Max pooling over a window of (2,2)\n",
        "    x = F.max_pool2d(F.relu(self.conv1(x)),(2, 2))\n",
        "    # If the size is a square you can only specify a single number\n",
        "    # for conv2, out channels are 4**2\n",
        "    x = F.max_pool2d(F.relu(self.conv2(x)), 2)\n",
        "    x = x.view(-1, self.num_flat_features(x))\n",
        "    x = F.relu(self.fc1(x))\n",
        "    x = F.relu(self.fc2(x))\n",
        "    x = self.fc3(x)\n",
        "    return x\n",
        "\n",
        "  def num_flat_features(self, x):\n",
        "    size = x.size()[1: ]     # all dimensions except the batch dimension\n",
        "    num_features = 1\n",
        "    for s in size:\n",
        "      num_features *= s\n",
        "    return num_features"
      ],
      "metadata": {
        "id": "ldhQ_zc--dXB"
      },
      "execution_count": null,
      "outputs": []
    },
    {
      "cell_type": "code",
      "source": [
        "net = LeNet()\n",
        "print(net)                         # what does the object tell us about itself?\n",
        "\n",
        "input = torch.rand(1, 1, 32, 32)   # stand-in for a 32x32 black & white image\n",
        "print('\\nImage batch shape:')\n",
        "print(input.shape)\n",
        "\n",
        "output = net(input)                # we don't call forward() directly\n",
        "print('\\nRaw output:')\n",
        "print(output)\n",
        "print(output.shape)"
      ],
      "metadata": {
        "colab": {
          "base_uri": "https://localhost:8080/"
        },
        "id": "RwwXzNPgFwY1",
        "outputId": "1b571b07-c5ac-43a6-a0cd-fbea0078abbf"
      },
      "execution_count": null,
      "outputs": [
        {
          "output_type": "stream",
          "name": "stdout",
          "text": [
            "LeNet(\n",
            "  (conv1): Conv2d(1, 6, kernel_size=(5, 5), stride=(1, 1))\n",
            "  (conv2): Conv2d(6, 16, kernel_size=(5, 5), stride=(1, 1))\n",
            "  (fc1): Linear(in_features=400, out_features=120, bias=True)\n",
            "  (fc2): Linear(in_features=120, out_features=84, bias=True)\n",
            "  (fc3): Linear(in_features=84, out_features=10, bias=True)\n",
            ")\n",
            "\n",
            "Image batch shape:\n",
            "torch.Size([1, 1, 32, 32])\n",
            "\n",
            "Raw output:\n",
            "tensor([[ 0.0898,  0.0318,  0.1485,  0.0301, -0.0085, -0.1135, -0.0296,  0.0164,\n",
            "          0.0039,  0.0616]], grad_fn=<AddmmBackward0>)\n",
            "torch.Size([1, 10])\n"
          ]
        }
      ]
    },
    {
      "cell_type": "markdown",
      "source": [
        "## DataSets and DataLoaders"
      ],
      "metadata": {
        "id": "Blai3QXXFxSB"
      }
    },
    {
      "cell_type": "markdown",
      "source": [
        "Here, we specify two transformations for our input:\n",
        "\n",
        "1. `transforms.ToTensor()` converts images loaded by Pillow into PyTorch tensors.\n",
        "\n",
        "2. `transforms.Normalize()` adjusts the values of the tensor so that their average is zero and their standard deviation is 1.0. Most activation functions have their strongest gradients around x = 0, so centering our data there can speed learning."
      ],
      "metadata": {
        "id": "_wYupSotGtNF"
      }
    },
    {
      "cell_type": "code",
      "source": [
        "#%matplotlib inline\n",
        "\n",
        "import torch\n",
        "import torchvision\n",
        "import torchvision.transforms as transforms\n",
        "from torch.utils.data import DataLoader\n",
        "\n",
        "transform = transforms.Compose(\n",
        "    [transforms.ToTensor(),\n",
        "     transforms.Normalize((0.4914, 0.4822, 0.4465), (0.2470, 0.2435, 0.2616))])\n",
        "\"\"\"\n",
        "from torch.utils.data import ConcatDataset\n",
        "transform = transforms.Compose([transforms.ToTensor()])\n",
        "trainset = torchvision.datasets.CIFAR10(root=’./data’, train=True, download=True, transform=transform)\n",
        "\n",
        "#stack all train images together into a tensor of shape(50000, 3, 32, 32)\n",
        "# x = torch.stack([sample[0] for sample in ConcatDataset([trainset])])\n",
        "#get the mean of each channel\n",
        "mean = torch.mean(x, dim=(0,2,3)) #tensor([0.4914, 0.4822, 0.4465])\n",
        "std = torch.std(x, dim=(0,2,3)) #tensor([0.2470, 0.2435, 0.2616])\n",
        "\n",
        "\"\"\""
      ],
      "metadata": {
        "id": "u8H1uUnzGlF9"
      },
      "execution_count": null,
      "outputs": []
    },
    {
      "cell_type": "code",
      "source": [
        "trainset = torchvision.datasets.CIFAR10(root='./data', train=True,\n",
        "                                        download=True, transform=transform)\n",
        "trainloader = DataLoader(trainset, batch_size=4, shuffle=True, num_workers=2)"
      ],
      "metadata": {
        "colab": {
          "base_uri": "https://localhost:8080/"
        },
        "id": "epz5ssnhqMak",
        "outputId": "1364b5e0-05e6-49ea-d351-84520f0817d5"
      },
      "execution_count": null,
      "outputs": [
        {
          "output_type": "stream",
          "name": "stdout",
          "text": [
            "Downloading https://www.cs.toronto.edu/~kriz/cifar-10-python.tar.gz to ./data/cifar-10-python.tar.gz\n"
          ]
        },
        {
          "output_type": "stream",
          "name": "stderr",
          "text": [
            "100%|██████████| 170498071/170498071 [00:10<00:00, 15860120.00it/s]\n"
          ]
        },
        {
          "output_type": "stream",
          "name": "stdout",
          "text": [
            "Extracting ./data/cifar-10-python.tar.gz to ./data\n"
          ]
        }
      ]
    },
    {
      "cell_type": "code",
      "source": [
        "import matplotlib.pyplot as plt\n",
        "import numpy as np\n",
        "\n",
        "classes = ('plane', 'car', 'bird', 'cat',\n",
        "           'deer', 'dog', 'frog', 'horse', 'ship', 'truck')\n",
        "\n",
        "def imshow(img):\n",
        "    img = img / 2 + 0.5     # unnormalize\n",
        "    npimg = img.numpy()\n",
        "    plt.imshow(np.transpose(npimg, (1, 2, 0)))\n",
        "\n",
        "\n",
        "# get some random training images\n",
        "dataiter = iter(trainloader)\n",
        "images, labels = next(dataiter)\n",
        "\n",
        "# show images\n",
        "imshow(torchvision.utils.make_grid(images))\n",
        "# print labels\n",
        "print(' '.join('%5s' % classes[labels[j]] for j in range(4)))"
      ],
      "metadata": {
        "colab": {
          "base_uri": "https://localhost:8080/",
          "height": 228
        },
        "id": "bTJeCnKsruak",
        "outputId": "da33add2-286b-4662-950f-ce104c20144c"
      },
      "execution_count": null,
      "outputs": [
        {
          "output_type": "stream",
          "name": "stderr",
          "text": [
            "WARNING:matplotlib.image:Clipping input data to the valid range for imshow with RGB data ([0..1] for floats or [0..255] for integers).\n"
          ]
        },
        {
          "output_type": "stream",
          "name": "stdout",
          "text": [
            " ship   car horse  ship\n"
          ]
        },
        {
          "output_type": "display_data",
          "data": {
            "text/plain": [
              "<Figure size 640x480 with 1 Axes>"
            ],
            "image/png": "[encoded data removed]"
          },
          "metadata": {}
        }
      ]
    },
    {
      "cell_type": "markdown",
      "source": [
        "## Training your Pytorch Model"
      ],
      "metadata": {
        "id": "72LZCAlTrzqY"
      }
    },
    {
      "cell_type": "markdown",
      "source": [
        "### Prerequisite Code"
      ],
      "metadata": {
        "id": "TVL10I8Ir4Bp"
      }
    },
    {
      "cell_type": "code",
      "source": [
        "#%matplotlib inline\n",
        "\n",
        "import torch\n",
        "import torch.nn as nn\n",
        "import torch.nn.functional as F\n",
        "import torch.optim as optim\n",
        "\n",
        "import torchvision\n",
        "import torchvision.transforms as transforms\n",
        "\n",
        "import matplotlib\n",
        "import matplotlib.pyplot as plt\n",
        "import numpy as np"
      ],
      "metadata": {
        "id": "_2YKIB7hsIko"
      },
      "execution_count": null,
      "outputs": []
    },
    {
      "cell_type": "code",
      "source": [
        "transform = transforms.Compose(\n",
        "    [transforms.ToTensor(),\n",
        "     transforms.Normalize((0.5, 0.5, 0.5), (0.5, 0.5, 0.5))])\n",
        "\n",
        "trainset = torchvision.datasets.CIFAR10(root='./data', train=True,\n",
        "                                        download=True, transform=transform)\n",
        "trainloader = torch.utils.data.DataLoader(trainset, batch_size=4,\n",
        "                                          shuffle=True, num_workers=2)\n",
        "\n",
        "testset = torchvision.datasets.CIFAR10(root='./data', train=False,\n",
        "                                       download=True, transform=transform)\n",
        "testloader = torch.utils.data.DataLoader(testset, batch_size=4,\n",
        "                                         shuffle=False, num_workers=2)\n",
        "\n",
        "classes = ('plane', 'car', 'bird', 'cat',\n",
        "           'deer', 'dog', 'frog', 'horse', 'ship', 'truck')"
      ],
      "metadata": {
        "colab": {
          "base_uri": "https://localhost:8080/"
        },
        "id": "m56a2mKtsKen",
        "outputId": "67cf830a-3ef2-4e8c-dcaa-770fb951d641"
      },
      "execution_count": null,
      "outputs": [
        {
          "output_type": "stream",
          "name": "stdout",
          "text": [
            "Files already downloaded and verified\n",
            "Files already downloaded and verified\n"
          ]
        }
      ]
    },
    {
      "cell_type": "code",
      "source": [
        "import matplotlib.pyplot as plt\n",
        "import numpy as np\n",
        "\n",
        "# functions to show an image\n",
        "\n",
        "\n",
        "def imshow(img):\n",
        "    img = img / 2 + 0.5     # unnormalize\n",
        "    npimg = img.numpy()\n",
        "    plt.imshow(np.transpose(npimg, (1, 2, 0)))\n",
        "\n",
        "\n",
        "# get some random training images\n",
        "dataiter = iter(trainloader)\n",
        "images, labels = next(dataiter)\n",
        "\n",
        "# show images\n",
        "imshow(torchvision.utils.make_grid(images))\n",
        "# print labels\n",
        "print(' '.join('%5s' % classes[labels[j]] for j in range(4)))"
      ],
      "metadata": {
        "colab": {
          "base_uri": "https://localhost:8080/",
          "height": 210
        },
        "id": "3L3s2UXQsMHW",
        "outputId": "40d28414-8517-441f-85cf-8a075f7fb618"
      },
      "execution_count": null,
      "outputs": [
        {
          "output_type": "stream",
          "name": "stdout",
          "text": [
            "  cat   cat  deer  frog\n"
          ]
        },
        {
          "output_type": "display_data",
          "data": {
            "text/plain": [
              "<Figure size 640x480 with 1 Axes>"
            ],
            "image/png": "[encoded data removed]"
          },
          "metadata": {}
        }
      ]
    },
    {
      "cell_type": "code",
      "source": [
        "class Net(nn.Module):\n",
        "  def __init__(self):\n",
        "    super(Net, self).__init__()\n",
        "    self.conv1 = nn.Conv2d(3, 6, 5)\n",
        "    self.pool = nn.MaxPool2d(2, 2)\n",
        "    self.conv2 = nn.Conv2d(6, 16, 5)\n",
        "    self.fc1 = nn.Linear(16*5*5, 120)\n",
        "    self.fc2 = nn.Linear(120, 84)\n",
        "    self.fc3 = nn.Linear(84,10)\n",
        "\n",
        "\n",
        "  def forward(self, x):\n",
        "    x = self.pool(F.relu(self.conv1(x)))\n",
        "    x = self.pool(F.relu(self.conv2(x)))\n",
        "    x = x.view(-1, 16*5*5)\n",
        "    x = F.relu(self.fc1(x))\n",
        "    x = F.relu(self.fc2(x))\n",
        "    x = self.fc3(x)\n",
        "    return x\n",
        "\n",
        "\n",
        "net = Net()"
      ],
      "metadata": {
        "id": "dR_1fETjsOkb"
      },
      "execution_count": null,
      "outputs": []
    },
    {
      "cell_type": "code",
      "source": [
        "criterion = nn.CrossEntropyLoss()\n",
        "optimizer = optim.SGD(net.parameters(), lr = 1e-3, momentum = 0.9)"
      ],
      "metadata": {
        "id": "-yqoBDtWuDWc"
      },
      "execution_count": null,
      "outputs": []
    },
    {
      "cell_type": "code",
      "source": [
        "for epoch in range(2):  # loop over the dataset multiple times\n",
        "\n",
        "    running_loss = 0.0\n",
        "    for i, data in enumerate(trainloader, 0):\n",
        "        # get the inputs\n",
        "        inputs, labels = data\n",
        "\n",
        "        # zero the parameter gradients\n",
        "        optimizer.zero_grad()\n",
        "\n",
        "        # forward + backward + optimize\n",
        "        outputs = net(inputs)\n",
        "        loss = criterion(outputs, labels)\n",
        "        loss.backward()\n",
        "        optimizer.step()\n",
        "\n",
        "        # print statistics\n",
        "        running_loss += loss.item()\n",
        "        if i % 2000 == 1999:    # print every 2000 mini-batches\n",
        "            print('[%d, %5d] loss: %.3f' %\n",
        "                  (epoch + 1, i + 1, running_loss / 2000))\n",
        "            running_loss = 0.0\n",
        "\n",
        "print('Finished Training')"
      ],
      "metadata": {
        "colab": {
          "base_uri": "https://localhost:8080/"
        },
        "id": "CVeOFgoTuUCu",
        "outputId": "82eb4d8a-8248-410d-f0cc-a6bd197a7ce5"
      },
      "execution_count": null,
      "outputs": [
        {
          "output_type": "stream",
          "name": "stdout",
          "text": [
            "[1,  2000] loss: 2.178\n",
            "[1,  4000] loss: 1.829\n",
            "[1,  6000] loss: 1.639\n",
            "[1,  8000] loss: 1.574\n",
            "[1, 10000] loss: 1.499\n",
            "[1, 12000] loss: 1.446\n",
            "[2,  2000] loss: 1.365\n",
            "[2,  4000] loss: 1.344\n",
            "[2,  6000] loss: 1.322\n",
            "[2,  8000] loss: 1.309\n",
            "[2, 10000] loss: 1.284\n",
            "[2, 12000] loss: 1.261\n",
            "Finished Training\n"
          ]
        }
      ]
    },
    {
      "cell_type": "markdown",
      "source": [
        "`optimizer.zero_grad()` : Zeroing the gradients is an important step. Gradients are accumulated over a batch; if we do not reset them for every batch, they will keep accumulating, which will provide incorrect gradient values, making learning impossible.\n",
        "\n",
        "`outputs = net(inputs)` : Ask the model for its predictions on this batch.\n",
        "\n",
        "`loss = criterion(outputs, labels)`: Compute the loss - the difference between outputs (the model prediction) and labels (the correct output).\n",
        "\n",
        "`loss.backward()` : Do the backward() pass, and calculate the gradients that will direct the learning.\n",
        "\n",
        "`optimizer.step()` : Optimizer performs one learning step - it uses the gradients from the backward() call to nudge the learning weights in the direction it thinks will reduce the loss."
      ],
      "metadata": {
        "id": "_gvOgD6mvLW-"
      }
    },
    {
      "cell_type": "markdown",
      "source": [
        "As a final step, we should check that the model is actually doing general learning, and not simply “memorizing” the dataset. This is called overfitting, and usually indicates that the dataset is too small (not enough examples for general learning), or that the model has more learning parameters than it needs to correctly model the dataset."
      ],
      "metadata": {
        "id": "EPz5PrCFwnqT"
      }
    },
    {
      "cell_type": "code",
      "source": [
        "correct = 0\n",
        "total = 0\n",
        "with torch.no_grad():\n",
        "    for data in testloader:\n",
        "        images, labels = data\n",
        "        outputs = net(images)\n",
        "        _, predicted = torch.max(outputs.data, 1)\n",
        "        total += labels.size(0)\n",
        "        correct += (predicted == labels).sum().item()\n",
        "\n",
        "print('Accuracy of the network on the 10000 test images: %d %%' % (\n",
        "    100 * correct / total))"
      ],
      "metadata": {
        "colab": {
          "base_uri": "https://localhost:8080/"
        },
        "id": "Qf4THeOEwrQp",
        "outputId": "709bfa18-bf27-4728-bcd8-7ca49844dd97"
      },
      "execution_count": null,
      "outputs": [
        {
          "output_type": "stream",
          "name": "stdout",
          "text": [
            "Accuracy of the network on the 10000 test images: 56 %\n"
          ]
        }
      ]
    },
    {
      "cell_type": "markdown",
      "source": [
        "## Development with TorchScript"
      ],
      "metadata": {
        "id": "sM6ZalWswr4o"
      }
    },
    {
      "cell_type": "markdown",
      "source": [
        "https://www.youtube.com/watch?v=Dk88zv1KYMI&t=26s"
      ],
      "metadata": {
        "id": "HaqFFuia_SqU"
      }
    },
    {
      "cell_type": "markdown",
      "source": [
        "It is a static, high-performance subset of Python.\n",
        "\n",
        "1. Prototype your model with Pytorch\n",
        "\n",
        "2. Control flow is preserved\n",
        "\n",
        "3. First-class support for lists, dicts, etc."
      ],
      "metadata": {
        "id": "7GNbrO9pyZqq"
      }
    },
    {
      "cell_type": "code",
      "source": [
        "import torch\n",
        "class MyModule(torch.nn.Module):\n",
        "  def __init__(self, N, M, state:List[Tensor]):\n",
        "    super(MyModule, self).__init__()\n",
        "    self.weight = torch.nn.Parameter(torch.rand(N,M))\n",
        "    self.state = state\n",
        "\n",
        "  def forward(self, input):\n",
        "    self.state.append(input)\n",
        "    if input.sum()>0:\n",
        "      output = self.weight.mv(input)\n",
        "    else:\n",
        "      output = self.weight + input\n",
        "    return output\n",
        "\n",
        "my_module = MyModule(3, 4, [torch.rand(3, 4)])\n",
        "my_script_module = torch.jit.script(my_module)\n",
        "\n",
        "my_script_module.save(\"my_script_module.pt\")"
      ],
      "metadata": {
        "id": "MYj9Tinty8l-"
      },
      "execution_count": null,
      "outputs": []
    },
    {
      "cell_type": "markdown",
      "source": [
        "### Pytorch JIT"
      ],
      "metadata": {
        "id": "9BU7rR1d0G2Y"
      }
    },
    {
      "cell_type": "markdown",
      "source": [
        "It is an optimizing just-in-time compiler for PyTorch programs.\n",
        "\n",
        "1. Lightweight, thread-safe interpreter\n",
        "\n",
        "2. Easy to write custom transformations\n",
        "\n",
        "3. Not just for inference! Autodiff support."
      ],
      "metadata": {
        "id": "wYZn_hjY0Khb"
      }
    },
    {
      "cell_type": "code",
      "source": [
        "# How to load an executed torchscript module?\n",
        "\n",
        "import torch\n",
        "my_module = torch.jit.load('my_module.pt') # serializer package\n",
        "my_module(some_input)"
      ],
      "metadata": {
        "id": "IrQE3tzv0iYX"
      },
      "execution_count": null,
      "outputs": []
    }
  ]
}