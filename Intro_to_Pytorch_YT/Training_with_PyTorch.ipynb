{
  "nbformat": 4,
  "nbformat_minor": 0,
  "metadata": {
    "colab": {
      "provenance": [],
      "authorship_tag": "ABX9TyOjGLb46yRvITOSI0nXd/t2",
      "include_colab_link": true
    },
    "kernelspec": {
      "name": "python3",
      "display_name": "Python 3"
    },
    "language_info": {
      "name": "python"
    }
  },
  "cells": [
    {
      "cell_type": "markdown",
      "metadata": {
        "id": "view-in-github",
        "colab_type": "text"
      },
      "source": [
        "<a href=\"https://colab.research.google.com/github/SandeshBashyal/Pytorch_Offical_Tutorials/blob/main/Training_with_PyTorch.ipynb\" target=\"_parent\"><img src=\"https://colab.research.google.com/assets/colab-badge.svg\" alt=\"Open In Colab\"/></a>"
      ]
    },
    {
      "cell_type": "markdown",
      "source": [
        "# Training with PyTorch"
      ],
      "metadata": {
        "id": "mKnJgMeOie8F"
      }
    },
    {
      "cell_type": "markdown",
      "source": [
        "OBJECTIVES:\n",
        "\n",
        "1. We’ll get familiar with the dataset and dataloader abstractions, and how they ease the process of feeding data to your model during a training loop\n",
        "\n",
        "2. We’ll discuss specific loss functions and when to use them\n",
        "\n",
        "3. We’ll look at PyTorch optimizers, which implement algorithms to adjust model weights based on the outcome of a loss function"
      ],
      "metadata": {
        "id": "0R1bt8sGmzyF"
      }
    },
    {
      "cell_type": "markdown",
      "source": [
        "## Dataset and DataLoader"
      ],
      "metadata": {
        "id": "Vk51Pq8am57c"
      }
    },
    {
      "cell_type": "code",
      "source": [
        "import torch\n",
        "import torchvision\n",
        "import torchvision.transforms as transforms\n",
        "\n",
        "# PyTorch TensorBoard support\n",
        "from torch.utils.tensorboard import SummaryWriter\n",
        "from datetime import datetime\n",
        "\n",
        "\n",
        "transform = transforms.Compose(\n",
        "    [transforms.ToTensor(),\n",
        "    transforms.Normalize((0.5,), (0.5,))])\n",
        "\n",
        "# Create datasets for training & validation, download if necessary\n",
        "training_set = torchvision.datasets.FashionMNIST('./data', train=True, transform=transform, download=True)\n",
        "validation_set = torchvision.datasets.FashionMNIST('./data', train=False, transform=transform, download=True)\n",
        "\n",
        "# Create data loaders for our datasets; shuffle for training, not for validation\n",
        "training_loader = torch.utils.data.DataLoader(training_set, batch_size=4, shuffle=True)\n",
        "validation_loader = torch.utils.data.DataLoader(validation_set, batch_size=4, shuffle=False)\n",
        "\n",
        "# Class labels\n",
        "classes = ('T-shirt/top', 'Trouser', 'Pullover', 'Dress', 'Coat',\n",
        "        'Sandal', 'Shirt', 'Sneaker', 'Bag', 'Ankle Boot')\n",
        "\n",
        "# Report split sizes\n",
        "print('Training set has {} instances'.format(len(training_set)))\n",
        "print('Validation set has {} instances'.format(len(validation_set)))"
      ],
      "metadata": {
        "colab": {
          "base_uri": "https://localhost:8080/"
        },
        "id": "-00Qg2Urm-ag",
        "outputId": "f0051d97-cdd1-4671-ec7a-b0becc310087"
      },
      "execution_count": 1,
      "outputs": [
        {
          "output_type": "stream",
          "name": "stdout",
          "text": [
            "Downloading http://fashion-mnist.s3-website.eu-central-1.amazonaws.com/train-images-idx3-ubyte.gz\n",
            "Downloading http://fashion-mnist.s3-website.eu-central-1.amazonaws.com/train-images-idx3-ubyte.gz to ./data/FashionMNIST/raw/train-images-idx3-ubyte.gz\n"
          ]
        },
        {
          "output_type": "stream",
          "name": "stderr",
          "text": [
            "100%|██████████| 26421880/26421880 [00:01<00:00, 18197692.06it/s]\n"
          ]
        },
        {
          "output_type": "stream",
          "name": "stdout",
          "text": [
            "Extracting ./data/FashionMNIST/raw/train-images-idx3-ubyte.gz to ./data/FashionMNIST/raw\n",
            "\n",
            "Downloading http://fashion-mnist.s3-website.eu-central-1.amazonaws.com/train-labels-idx1-ubyte.gz\n",
            "Downloading http://fashion-mnist.s3-website.eu-central-1.amazonaws.com/train-labels-idx1-ubyte.gz to ./data/FashionMNIST/raw/train-labels-idx1-ubyte.gz\n"
          ]
        },
        {
          "output_type": "stream",
          "name": "stderr",
          "text": [
            "100%|██████████| 29515/29515 [00:00<00:00, 337315.76it/s]\n"
          ]
        },
        {
          "output_type": "stream",
          "name": "stdout",
          "text": [
            "Extracting ./data/FashionMNIST/raw/train-labels-idx1-ubyte.gz to ./data/FashionMNIST/raw\n",
            "\n",
            "Downloading http://fashion-mnist.s3-website.eu-central-1.amazonaws.com/t10k-images-idx3-ubyte.gz\n",
            "Downloading http://fashion-mnist.s3-website.eu-central-1.amazonaws.com/t10k-images-idx3-ubyte.gz to ./data/FashionMNIST/raw/t10k-images-idx3-ubyte.gz\n"
          ]
        },
        {
          "output_type": "stream",
          "name": "stderr",
          "text": [
            "100%|██████████| 4422102/4422102 [00:00<00:00, 6058629.55it/s]\n"
          ]
        },
        {
          "output_type": "stream",
          "name": "stdout",
          "text": [
            "Extracting ./data/FashionMNIST/raw/t10k-images-idx3-ubyte.gz to ./data/FashionMNIST/raw\n",
            "\n",
            "Downloading http://fashion-mnist.s3-website.eu-central-1.amazonaws.com/t10k-labels-idx1-ubyte.gz\n",
            "Downloading http://fashion-mnist.s3-website.eu-central-1.amazonaws.com/t10k-labels-idx1-ubyte.gz to ./data/FashionMNIST/raw/t10k-labels-idx1-ubyte.gz\n"
          ]
        },
        {
          "output_type": "stream",
          "name": "stderr",
          "text": [
            "100%|██████████| 5148/5148 [00:00<00:00, 17413126.61it/s]"
          ]
        },
        {
          "output_type": "stream",
          "name": "stdout",
          "text": [
            "Extracting ./data/FashionMNIST/raw/t10k-labels-idx1-ubyte.gz to ./data/FashionMNIST/raw\n",
            "\n",
            "Training set has 60000 instances\n",
            "Validation set has 10000 instances\n"
          ]
        },
        {
          "output_type": "stream",
          "name": "stderr",
          "text": [
            "\n"
          ]
        }
      ]
    },
    {
      "cell_type": "code",
      "source": [
        "import matplotlib.pyplot as plt\n",
        "import numpy as np\n",
        "\n",
        "# Helper function for inline image display\n",
        "def matplotlib_imshow(img, one_channel=False):\n",
        "    if one_channel:\n",
        "        img = img.mean(dim=0)\n",
        "    img = img / 2 + 0.5     # unnormalize\n",
        "    npimg = img.numpy()\n",
        "    if one_channel:\n",
        "        plt.imshow(npimg, cmap=\"Greys\")\n",
        "    else:\n",
        "        plt.imshow(np.transpose(npimg, (1, 2, 0)))\n",
        "\n",
        "dataiter = iter(training_loader)\n",
        "images, labels = next(dataiter)\n",
        "\n",
        "# Create a grid from the images and show them\n",
        "img_grid = torchvision.utils.make_grid(images)\n",
        "matplotlib_imshow(img_grid, one_channel=True)\n",
        "print('  '.join(classes[labels[j]] for j in range(4)))"
      ],
      "metadata": {
        "colab": {
          "base_uri": "https://localhost:8080/",
          "height": 211
        },
        "id": "lAptt0awsFN1",
        "outputId": "e368e271-9d30-4bd9-b5e4-342f4def587e"
      },
      "execution_count": 2,
      "outputs": [
        {
          "output_type": "stream",
          "name": "stdout",
          "text": [
            "T-shirt/top  Ankle Boot  Sneaker  Trouser\n"
          ]
        },
        {
          "output_type": "display_data",
          "data": {
            "text/plain": [
              "<Figure size 640x480 with 1 Axes>"
            ],
            "image/png": "[encoded data removed]"
          },
          "metadata": {}
        }
      ]
    },
    {
      "cell_type": "markdown",
      "source": [
        "## The Model"
      ],
      "metadata": {
        "id": "EzG7OER6sJQM"
      }
    },
    {
      "cell_type": "code",
      "source": [
        "import torch.nn as nn\n",
        "import torch.nn.functional as F\n",
        "\n",
        "# PyTorch models inherit from torch.nn.Module\n",
        "class GarmentClassifier(nn.Module):\n",
        "    def __init__(self):\n",
        "        super(GarmentClassifier, self).__init__()\n",
        "        self.conv1 = nn.Conv2d(1, 6, 5)\n",
        "        self.pool = nn.MaxPool2d(2, 2)\n",
        "        self.conv2 = nn.Conv2d(6, 16, 5)\n",
        "        self.fc1 = nn.Linear(16 * 4 * 4, 120)\n",
        "        self.fc2 = nn.Linear(120, 84)\n",
        "        self.fc3 = nn.Linear(84, 10)\n",
        "\n",
        "    def forward(self, x):\n",
        "        x = self.pool(F.relu(self.conv1(x)))\n",
        "        x = self.pool(F.relu(self.conv2(x)))\n",
        "        x = x.view(-1, 16 * 4 * 4)\n",
        "        x = F.relu(self.fc1(x))\n",
        "        x = F.relu(self.fc2(x))\n",
        "        x = self.fc3(x)\n",
        "        return x\n",
        "\n",
        "\n",
        "model = GarmentClassifier()\n"
      ],
      "metadata": {
        "id": "SwKy949psPMD"
      },
      "execution_count": 3,
      "outputs": []
    },
    {
      "cell_type": "markdown",
      "source": [
        "## Loss Function"
      ],
      "metadata": {
        "id": "Aj_wVsYZsRTh"
      }
    },
    {
      "cell_type": "code",
      "source": [
        "loss_fn = torch.nn.CrossEntropyLoss()\n",
        "\n",
        "# NB: Loss functions expect data in batches, so we're creating batches of 4\n",
        "# Represents the model's confidence in each of the 10 classes for a given input\n",
        "dummy_outputs = torch.rand(4, 10)\n",
        "# Represents the correct class among the 10 being tested\n",
        "dummy_labels = torch.tensor([1, 5, 3, 7])\n",
        "\n",
        "print(dummy_outputs)\n",
        "print(dummy_labels)\n",
        "\n",
        "loss = loss_fn(dummy_outputs, dummy_labels)\n",
        "print('Total loss for this batch: {}'.format(loss.item()))"
      ],
      "metadata": {
        "colab": {
          "base_uri": "https://localhost:8080/"
        },
        "id": "EKYL6JOOsUHe",
        "outputId": "1e8fc642-23b2-4a59-ce42-6713fcfceca8"
      },
      "execution_count": 4,
      "outputs": [
        {
          "output_type": "stream",
          "name": "stdout",
          "text": [
            "tensor([[0.5565, 0.6994, 0.3721, 0.7649, 0.7643, 0.6257, 0.4951, 0.9807, 0.8997,\n",
            "         0.8181],\n",
            "        [0.8682, 0.5051, 0.1217, 0.8038, 0.2332, 0.4188, 0.1570, 0.8606, 0.4199,\n",
            "         0.8976],\n",
            "        [0.8322, 0.2720, 0.9449, 0.8550, 0.1856, 0.6343, 0.5581, 0.8163, 0.6984,\n",
            "         0.6356],\n",
            "        [0.8088, 0.2889, 0.2899, 0.7797, 0.7960, 0.2853, 0.7159, 0.4631, 0.8247,\n",
            "         0.9852]])\n",
            "tensor([1, 5, 3, 7])\n",
            "Total loss for this batch: 2.3454768657684326\n"
          ]
        }
      ]
    },
    {
      "cell_type": "markdown",
      "source": [
        "## Optimizer"
      ],
      "metadata": {
        "id": "aKew2uO1sVYz"
      }
    },
    {
      "cell_type": "code",
      "source": [
        "# Optimizers specified in the torch.optim package\n",
        "optimizer = torch.optim.SGD(model.parameters(), lr=0.001, momentum=0.9)\n",
        "# Learning rate determines the size of the steps the optimizer takes.\n",
        "# Momentum nudges the optimizer in the direction of strongest gradient over multiple steps.\n",
        "# Different optimization algorithms, such as averaged SGD, Adagrad, or Adam."
      ],
      "metadata": {
        "id": "pl6j-BaQsc40"
      },
      "execution_count": 5,
      "outputs": []
    },
    {
      "cell_type": "markdown",
      "source": [
        "# The Training Loop"
      ],
      "metadata": {
        "id": "oM5Itg_8srHF"
      }
    },
    {
      "cell_type": "markdown",
      "source": [
        "On each pass loop does:\n",
        "\n",
        "1. Gets a batch of training data from the DataLoader\n",
        "\n",
        "2. Zeros the optimizer’s gradients\n",
        "\n",
        "3. Performs an inference - that is, gets predictions from the model for an input batch\n",
        "\n",
        "4. Calculates the loss for that set of predictions vs. the labels on the dataset\n",
        "\n",
        "5. Calculates the backward gradients over the learning weights\n",
        "\n",
        "6. Tells the optimizer to perform one learning step - that is, adjust the model’s learning weights based on the observed gradients for this batch, according to the optimization algorithm we chose\n",
        "\n",
        "7. It reports on the loss for every 1000 batches.\n",
        "\n",
        "8. Finally, it reports the average per-batch loss for the last 1000 batches, for comparison with a validation run"
      ],
      "metadata": {
        "id": "Zw7WnP_IsuOI"
      }
    },
    {
      "cell_type": "code",
      "source": [
        "def train_one_epoch(epoch_index, tb_writer):\n",
        "    running_loss = 0.\n",
        "    last_loss = 0.\n",
        "\n",
        "    # Here, we use enumerate(training_loader) instead of\n",
        "    # iter(training_loader) so that we can track the batch\n",
        "    # index and do some intra-epoch reporting\n",
        "    for i, data in enumerate(training_loader):\n",
        "        # Every data instance is an input + label pair\n",
        "        inputs, labels = data\n",
        "\n",
        "        # Zero your gradients for every batch!\n",
        "        optimizer.zero_grad()\n",
        "\n",
        "        # Make predictions for this batch\n",
        "        outputs = model(inputs)\n",
        "\n",
        "        # Compute the loss and its gradients\n",
        "        loss = loss_fn(outputs, labels)\n",
        "        loss.backward()\n",
        "\n",
        "        # Adjust learning weights\n",
        "        optimizer.step()\n",
        "\n",
        "        # Gather data and report\n",
        "        running_loss += loss.item()\n",
        "        if i % 1000 == 999:\n",
        "            last_loss = running_loss / 1000 # loss per batch\n",
        "            print('  batch {} loss: {}'.format(i + 1, last_loss))\n",
        "            tb_x = epoch_index * len(training_loader) + i + 1\n",
        "            tb_writer.add_scalar('Loss/train', last_loss, tb_x)\n",
        "            running_loss = 0.\n",
        "\n",
        "    return last_loss"
      ],
      "metadata": {
        "id": "ms-_pmqPtEl6"
      },
      "execution_count": 6,
      "outputs": []
    },
    {
      "cell_type": "markdown",
      "source": [
        "### Pre-Epoch Activity"
      ],
      "metadata": {
        "id": "iTC-MDN-tGvE"
      }
    },
    {
      "cell_type": "markdown",
      "source": [
        "There are a couple of things to do once per epoch:\n",
        "\n",
        "1. Perform validation by checking our relative loss on a set of data that was not used for training, and report this\n",
        "\n",
        "2. Save a copy of the model"
      ],
      "metadata": {
        "id": "4NV6OQ8UtKdn"
      }
    },
    {
      "cell_type": "code",
      "source": [
        "# Initializing in a separate cell so we can easily add more epochs to the same run\n",
        "timestamp = datetime.now().strftime('%Y%m%d_%H%M%S')\n",
        "writer = SummaryWriter('runs/fashion_trainer_{}'.format(timestamp))\n",
        "epoch_number = 0\n",
        "\n",
        "EPOCHS = 5\n",
        "\n",
        "best_vloss = 1_000_000.\n",
        "\n",
        "for epoch in range(EPOCHS):\n",
        "    print('EPOCH {}:'.format(epoch_number + 1))\n",
        "\n",
        "    # Make sure gradient tracking is on, and do a pass over the data\n",
        "    model.train(True)\n",
        "    avg_loss = train_one_epoch(epoch_number, writer)\n",
        "\n",
        "\n",
        "    running_vloss = 0.0\n",
        "    # Set the model to evaluation mode, disabling dropout and using population\n",
        "    # statistics for batch normalization.\n",
        "    model.eval()\n",
        "\n",
        "    # Disable gradient computation and reduce memory consumption.\n",
        "    with torch.no_grad():\n",
        "        for i, vdata in enumerate(validation_loader):\n",
        "            vinputs, vlabels = vdata\n",
        "            voutputs = model(vinputs)\n",
        "            vloss = loss_fn(voutputs, vlabels)\n",
        "            running_vloss += vloss\n",
        "\n",
        "    avg_vloss = running_vloss / (i + 1)\n",
        "    print('LOSS train {} valid {}'.format(avg_loss, avg_vloss))\n",
        "\n",
        "    # Log the running loss averaged per batch\n",
        "    # for both training and validation\n",
        "    writer.add_scalars('Training vs. Validation Loss',\n",
        "                    { 'Training' : avg_loss, 'Validation' : avg_vloss },\n",
        "                    epoch_number + 1)\n",
        "    writer.flush()\n",
        "\n",
        "    # Track best performance, and save the model's state\n",
        "    if avg_vloss < best_vloss:\n",
        "        best_vloss = avg_vloss\n",
        "        model_path = 'model_{}_{}'.format(timestamp, epoch_number)\n",
        "        torch.save(model.state_dict(), model_path)\n",
        "\n",
        "    epoch_number += 1"
      ],
      "metadata": {
        "colab": {
          "base_uri": "https://localhost:8080/"
        },
        "id": "QGNr_BlmtXSs",
        "outputId": "f4418123-0116-45c6-9f0d-de11dd756dfe"
      },
      "execution_count": 7,
      "outputs": [
        {
          "output_type": "stream",
          "name": "stdout",
          "text": [
            "EPOCH 1:\n",
            "  batch 1000 loss: 1.9469795555621385\n",
            "  batch 2000 loss: 0.9761425277516246\n",
            "  batch 3000 loss: 0.798207093517296\n",
            "  batch 4000 loss: 0.7028451155740768\n",
            "  batch 5000 loss: 0.6543727115672082\n",
            "  batch 6000 loss: 0.6217079947199673\n",
            "  batch 7000 loss: 0.5856084550581873\n",
            "  batch 8000 loss: 0.5412153514670208\n",
            "  batch 9000 loss: 0.5270600351840258\n",
            "  batch 10000 loss: 0.5347068883953616\n",
            "  batch 11000 loss: 0.5036254395146389\n",
            "  batch 12000 loss: 0.4896124368360033\n",
            "  batch 13000 loss: 0.4971573341875337\n",
            "  batch 14000 loss: 0.4670034707095474\n",
            "  batch 15000 loss: 0.4494861945634475\n",
            "LOSS train 0.4494861945634475 valid 0.4873256981372833\n",
            "EPOCH 2:\n",
            "  batch 1000 loss: 0.4289640054111369\n",
            "  batch 2000 loss: 0.4265112399935024\n",
            "  batch 3000 loss: 0.41927226942376\n",
            "  batch 4000 loss: 0.42919951029791265\n",
            "  batch 5000 loss: 0.3976927884233883\n",
            "  batch 6000 loss: 0.4004024268113426\n",
            "  batch 7000 loss: 0.39886477312626084\n",
            "  batch 8000 loss: 0.37537834709213347\n",
            "  batch 9000 loss: 0.4013066749431891\n",
            "  batch 10000 loss: 0.3739081018193829\n",
            "  batch 11000 loss: 0.39221484764684283\n",
            "  batch 12000 loss: 0.3774126314292662\n",
            "  batch 13000 loss: 0.3913367240857624\n",
            "  batch 14000 loss: 0.3660594071570085\n",
            "  batch 15000 loss: 0.3630017151107604\n",
            "LOSS train 0.3630017151107604 valid 0.37578001618385315\n",
            "EPOCH 3:\n",
            "  batch 1000 loss: 0.3568815123451786\n",
            "  batch 2000 loss: 0.34789008132956223\n",
            "  batch 3000 loss: 0.3383239852387123\n",
            "  batch 4000 loss: 0.3464488736377425\n",
            "  batch 5000 loss: 0.3467211598002468\n",
            "  batch 6000 loss: 0.3487804727354087\n",
            "  batch 7000 loss: 0.35076556224111116\n",
            "  batch 8000 loss: 0.3463317758800622\n",
            "  batch 9000 loss: 0.3347624079007073\n",
            "  batch 10000 loss: 0.33038827048042185\n",
            "  batch 11000 loss: 0.3266601260555908\n",
            "  batch 12000 loss: 0.33432242809256424\n",
            "  batch 13000 loss: 0.3497267005409085\n",
            "  batch 14000 loss: 0.3369565639753491\n",
            "  batch 15000 loss: 0.32066732543177207\n",
            "LOSS train 0.32066732543177207 valid 0.365066796541214\n",
            "EPOCH 4:\n",
            "  batch 1000 loss: 0.32208681447598064\n",
            "  batch 2000 loss: 0.2974226754839474\n",
            "  batch 3000 loss: 0.2935247700781983\n",
            "  batch 4000 loss: 0.33310142006400567\n",
            "  batch 5000 loss: 0.3079366624288086\n",
            "  batch 6000 loss: 0.3249968638802675\n",
            "  batch 7000 loss: 0.3165287215947756\n",
            "  batch 8000 loss: 0.31388083775602715\n",
            "  batch 9000 loss: 0.31527629533793516\n",
            "  batch 10000 loss: 0.30649546488200574\n",
            "  batch 11000 loss: 0.32591568637566887\n",
            "  batch 12000 loss: 0.28319533135028907\n",
            "  batch 13000 loss: 0.3110171571998762\n",
            "  batch 14000 loss: 0.31497504269448107\n",
            "  batch 15000 loss: 0.2984736850811169\n",
            "LOSS train 0.2984736850811169 valid 0.3630671799182892\n",
            "EPOCH 5:\n",
            "  batch 1000 loss: 0.29828630951902596\n",
            "  batch 2000 loss: 0.2748953457140451\n",
            "  batch 3000 loss: 0.27899892719721536\n",
            "  batch 4000 loss: 0.30492411796258423\n",
            "  batch 5000 loss: 0.3090987949543014\n",
            "  batch 6000 loss: 0.2905594124945783\n",
            "  batch 7000 loss: 0.304421928617201\n",
            "  batch 8000 loss: 0.28772407659152666\n",
            "  batch 9000 loss: 0.2799371876358782\n",
            "  batch 10000 loss: 0.28460537727018526\n",
            "  batch 11000 loss: 0.2941397138962566\n",
            "  batch 12000 loss: 0.2753415640303738\n",
            "  batch 13000 loss: 0.2846794575688309\n",
            "  batch 14000 loss: 0.2976583705665944\n",
            "  batch 15000 loss: 0.29436794721327897\n",
            "LOSS train 0.29436794721327897 valid 0.3372000753879547\n"
          ]
        }
      ]
    },
    {
      "cell_type": "markdown",
      "source": [
        "## Other Resources"
      ],
      "metadata": {
        "id": "0hKY_KyLtZWk"
      }
    },
    {
      "cell_type": "markdown",
      "source": [
        "https://pytorch.org/tutorials/beginner/introyt/trainingyt.html#other-resources\n",
        "\n",
        "1. Docs on the [data utilities](https://pytorch.org/docs/stable/data.html), including Dataset and DataLoader, at pytorch.org\n",
        "\n",
        "2. A note on the use of pinned memory for GPU training : [CUDA Semantics](https://pytorch.org/docs/stable/notes/cuda.html#)\n",
        "\n",
        "3. Documentation on the datasets available in TorchVision, TorchText, and TorchAudio\n",
        "\n",
        "4. Documentation on the loss functions available in PyTorch\n",
        "\n",
        "5. Documentation on the torch.optim package, which includes optimizers and related tools, such as learning rate scheduling\n",
        "\n",
        "6. A detailed tutorial on saving and loading models\n",
        "\n",
        "7. The Tutorials section of pytorch.org contains tutorials on a broad variety of training tasks, including classification in different domains, generative adversarial networks, reinforcement learning, and more"
      ],
      "metadata": {
        "id": "a6l0E-IWthYe"
      }
    }
  ]
}