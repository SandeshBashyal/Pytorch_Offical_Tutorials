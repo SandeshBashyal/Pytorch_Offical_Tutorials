{
  "nbformat": 4,
  "nbformat_minor": 0,
  "metadata": {
    "colab": {
      "provenance": [],
      "gpuType": "T4",
      "authorship_tag": "ABX9TyO9/K1biqli+KjfBYIDOrP7"
    },
    "kernelspec": {
      "name": "python3",
      "display_name": "Python 3"
    },
    "language_info": {
      "name": "python"
    }
  },
  "cells": [
    {
      "cell_type": "markdown",
      "source": [
        "# Introduction to PyTorch Tensors"
      ],
      "metadata": {
        "id": "ltepisZour8O"
      }
    },
    {
      "cell_type": "markdown",
      "source": [
        "https://pytorch.org/tutorials/beginner/introyt/tensors_deeper_tutorial.html#manipulating-tensor-shapes"
      ],
      "metadata": {
        "id": "UEtn__II1-JT"
      }
    },
    {
      "cell_type": "markdown",
      "source": [
        "## Creating Tensors"
      ],
      "metadata": {
        "id": "h_EKphi_NB0g"
      }
    },
    {
      "cell_type": "code",
      "source": [
        "import torch\n",
        "import math"
      ],
      "metadata": {
        "id": "75TDgQh8vuz1"
      },
      "execution_count": null,
      "outputs": []
    },
    {
      "cell_type": "code",
      "source": [
        "x = torch.empty(3, 4)\n",
        "print(type(x))\n",
        "print(x)"
      ],
      "metadata": {
        "id": "rKfKS6CQPBC0",
        "colab": {
          "base_uri": "https://localhost:8080/"
        },
        "outputId": "9427111d-6eff-4620-9fd7-7d92d54538f2"
      },
      "execution_count": null,
      "outputs": [
        {
          "output_type": "stream",
          "name": "stdout",
          "text": [
            "<class 'torch.Tensor'>\n",
            "tensor([[-9.0737e-34,  4.5654e-41,  7.8047e+36,  4.5654e-41],\n",
            "        [-9.0742e-34,  4.5654e-41, -9.0747e-34,  4.5654e-41],\n",
            "        [ 4.9102e+05,  4.5654e-41, -8.5227e-34,  4.5654e-41]])\n"
          ]
        }
      ]
    },
    {
      "cell_type": "code",
      "source": [
        "zeros = torch.zeros(2, 3)\n",
        "print(zeros)\n",
        "\n",
        "ones = torch.ones(2, 3)\n",
        "print(ones)\n",
        "\n",
        "torch.manual_seed(1729)\n",
        "random = torch.rand(2, 3)\n",
        "print(random)"
      ],
      "metadata": {
        "colab": {
          "base_uri": "https://localhost:8080/"
        },
        "id": "jvPKjha0NI9r",
        "outputId": "f7d1793c-8ebc-47bb-8e0c-84be7c5d895f"
      },
      "execution_count": null,
      "outputs": [
        {
          "output_type": "stream",
          "name": "stdout",
          "text": [
            "tensor([[0., 0., 0.],\n",
            "        [0., 0., 0.]])\n",
            "tensor([[1., 1., 1.],\n",
            "        [1., 1., 1.]])\n",
            "tensor([[0.3126, 0.3791, 0.3087],\n",
            "        [0.0736, 0.4216, 0.0691]])\n"
          ]
        }
      ]
    },
    {
      "cell_type": "markdown",
      "source": [
        "### Random Tensors and Seeding"
      ],
      "metadata": {
        "id": "nbjIZpC0NNuH"
      }
    },
    {
      "cell_type": "markdown",
      "source": [
        "`torch.manual_seed()` Initializing tensors, such as a model’s learning weights, with random values is common but there are times - especially in research settings - where you’ll want some assurance of the reproducibility of your results."
      ],
      "metadata": {
        "id": "7ijQrPEqNVBY"
      }
    },
    {
      "cell_type": "code",
      "source": [
        "torch.manual_seed(1729)\n",
        "random1 = torch.rand(2, 3)\n",
        "print(random1)\n",
        "\n",
        "random2 = torch.rand(2, 3)\n",
        "print(random2)\n",
        "\n",
        "torch.manual_seed(1729)\n",
        "random3 = torch.rand(2, 3)\n",
        "print(random3)\n",
        "\n",
        "random4 = torch.rand(2, 3)\n",
        "print(random4)"
      ],
      "metadata": {
        "colab": {
          "base_uri": "https://localhost:8080/"
        },
        "id": "qDknUz8fNSVh",
        "outputId": "850803f2-87e4-440f-9c3b-23fb5ecb9413"
      },
      "execution_count": null,
      "outputs": [
        {
          "output_type": "stream",
          "name": "stdout",
          "text": [
            "tensor([[0.3126, 0.3791, 0.3087],\n",
            "        [0.0736, 0.4216, 0.0691]])\n",
            "tensor([[0.2332, 0.4047, 0.2162],\n",
            "        [0.9927, 0.4128, 0.5938]])\n",
            "tensor([[0.3126, 0.3791, 0.3087],\n",
            "        [0.0736, 0.4216, 0.0691]])\n",
            "tensor([[0.2332, 0.4047, 0.2162],\n",
            "        [0.9927, 0.4128, 0.5938]])\n"
          ]
        }
      ]
    },
    {
      "cell_type": "markdown",
      "source": [
        "### Tensor Shapes"
      ],
      "metadata": {
        "id": "t2xiTkfXNgtP"
      }
    },
    {
      "cell_type": "markdown",
      "source": [
        "Often, when you’re performing operations on two or more tensors, they will need to be of the same shape - that is, having the same number of dimensions and the same number of cells in each dimension. For that, we have the `torch.*_like()` methods:"
      ],
      "metadata": {
        "id": "DkxZpDEMNsr1"
      }
    },
    {
      "cell_type": "code",
      "source": [
        "x = torch.empty(2, 2, 3)\n",
        "print(x.shape)\n",
        "print(x)\n",
        "\n",
        "empty_like_x = torch.empty_like(x)\n",
        "print(empty_like_x.shape)\n",
        "print(empty_like_x)\n",
        "\n",
        "zeros_like_x = torch.zeros_like(x)\n",
        "print(zeros_like_x.shape)\n",
        "print(zeros_like_x)\n",
        "\n",
        "ones_like_x = torch.ones_like(x)\n",
        "print(ones_like_x.shape)\n",
        "print(ones_like_x)\n",
        "\n",
        "rand_like_x = torch.rand_like(x)\n",
        "print(rand_like_x.shape)\n",
        "print(rand_like_x)"
      ],
      "metadata": {
        "colab": {
          "base_uri": "https://localhost:8080/"
        },
        "id": "-PRJSiXFNjZn",
        "outputId": "6ac038a9-e051-47af-f9b4-23fc41cad98a"
      },
      "execution_count": null,
      "outputs": [
        {
          "output_type": "stream",
          "name": "stdout",
          "text": [
            "torch.Size([2, 2, 3])\n",
            "tensor([[[5.1724e-34, 0.0000e+00, 1.4013e-45],\n",
            "         [0.0000e+00, 1.4013e-45, 0.0000e+00]],\n",
            "\n",
            "        [[1.4013e-45, 0.0000e+00, 1.4013e-45],\n",
            "         [0.0000e+00, 1.4013e-45, 0.0000e+00]]])\n",
            "torch.Size([2, 2, 3])\n",
            "tensor([[[ 5.1728e-34,  0.0000e+00, -1.6226e-33],\n",
            "         [ 4.5654e-41,  8.9683e-44,  0.0000e+00]],\n",
            "\n",
            "        [[ 1.1210e-43,  0.0000e+00,  5.1724e-34],\n",
            "         [ 0.0000e+00,  0.0000e+00,  0.0000e+00]]])\n",
            "torch.Size([2, 2, 3])\n",
            "tensor([[[0., 0., 0.],\n",
            "         [0., 0., 0.]],\n",
            "\n",
            "        [[0., 0., 0.],\n",
            "         [0., 0., 0.]]])\n",
            "torch.Size([2, 2, 3])\n",
            "tensor([[[1., 1., 1.],\n",
            "         [1., 1., 1.]],\n",
            "\n",
            "        [[1., 1., 1.],\n",
            "         [1., 1., 1.]]])\n",
            "torch.Size([2, 2, 3])\n",
            "tensor([[[0.6128, 0.1519, 0.0453],\n",
            "         [0.5035, 0.9978, 0.3884]],\n",
            "\n",
            "        [[0.6929, 0.1703, 0.1384],\n",
            "         [0.4759, 0.7481, 0.0361]]])\n"
          ]
        }
      ]
    },
    {
      "cell_type": "markdown",
      "source": [
        "We call the `.empty_like()`, `.zeros_like()`, `.ones_like()`, and `.rand_like()` methods. Using the `.shape` property, we can verify that each of these methods returns a tensor of identical dimensionality and extent."
      ],
      "metadata": {
        "id": "0UcFpJ1zN2zE"
      }
    },
    {
      "cell_type": "code",
      "source": [
        "some_constants = torch.tensor([[3.1415926, 2.71828], [1.61803, 0.0072897]])\n",
        "print(some_constants)\n",
        "\n",
        "some_integers = torch.tensor((2, 3, 5, 7, 11, 13, 17, 19))\n",
        "print(some_integers)\n",
        "\n",
        "more_integers = torch.tensor(((2, 4, 6), [3, 6, 9]))\n",
        "print(more_integers)"
      ],
      "metadata": {
        "colab": {
          "base_uri": "https://localhost:8080/"
        },
        "id": "tpQaAqJ6Ny6P",
        "outputId": "52bb9ff4-3022-45d1-dd27-eeb782a5309a"
      },
      "execution_count": null,
      "outputs": [
        {
          "output_type": "stream",
          "name": "stdout",
          "text": [
            "tensor([[3.1416, 2.7183],\n",
            "        [1.6180, 0.0073]])\n",
            "tensor([ 2,  3,  5,  7, 11, 13, 17, 19])\n",
            "tensor([[2, 4, 6],\n",
            "        [3, 6, 9]])\n"
          ]
        }
      ]
    },
    {
      "cell_type": "markdown",
      "source": [
        "`torch.tensor()` is the most straightforward way to create a tensor if you already have data in a Python tuple or list."
      ],
      "metadata": {
        "id": "eikRLAmrOTCc"
      }
    },
    {
      "cell_type": "markdown",
      "source": [
        "### Tensor Data Types"
      ],
      "metadata": {
        "id": "bO8u5oSWOeMb"
      }
    },
    {
      "cell_type": "code",
      "source": [
        "a = torch.ones((2, 3), dtype=torch.int16)\n",
        "print(a)\n",
        "\n",
        "b = torch.rand((2, 3), dtype=torch.float64) * 20.\n",
        "print(b)\n",
        "\n",
        "c = b.to(torch.int32)\n",
        "print(c)"
      ],
      "metadata": {
        "colab": {
          "base_uri": "https://localhost:8080/"
        },
        "id": "hITbavPLOjFc",
        "outputId": "ff50dadf-7646-4274-b8ca-2c807a0c5a74"
      },
      "execution_count": null,
      "outputs": [
        {
          "output_type": "stream",
          "name": "stdout",
          "text": [
            "tensor([[1, 1, 1],\n",
            "        [1, 1, 1]], dtype=torch.int16)\n",
            "tensor([[ 0.9956,  1.4148,  5.8364],\n",
            "        [11.2406, 11.2083, 11.6692]], dtype=torch.float64)\n",
            "tensor([[ 0,  1,  5],\n",
            "        [11, 11, 11]], dtype=torch.int32)\n"
          ]
        }
      ]
    },
    {
      "cell_type": "markdown",
      "source": [
        "The way to set datatype is `.to()` method.\n",
        "\n",
        "Available datatypes include: `torch.bool`, `torch.int8`, `torch.uint8`, `torch.int16`, `torch.int32`, `torch.int64`, `torch.half`, `torch.float`, `torch.double`, `torch.bfloat`."
      ],
      "metadata": {
        "id": "9zfm4kKcOkVG"
      }
    },
    {
      "cell_type": "markdown",
      "source": [
        "## Math & Logic with PyTorch Sensors"
      ],
      "metadata": {
        "id": "AL04qiKlPWdL"
      }
    },
    {
      "cell_type": "code",
      "source": [
        "ones = torch.zeros(2, 2) + 1\n",
        "twos = torch.ones(2, 2) * 2\n",
        "threes = (torch.ones(2, 2) * 7 - 1) / 2\n",
        "fours = twos ** 2\n",
        "sqrt2s = twos ** 0.5\n",
        "\n",
        "print(ones)\n",
        "print(twos)\n",
        "print(threes)\n",
        "print(fours)\n",
        "print(sqrt2s)"
      ],
      "metadata": {
        "colab": {
          "base_uri": "https://localhost:8080/"
        },
        "id": "v6HqdBzsPbUh",
        "outputId": "00bbbe48-eed7-4bf2-e2ab-29637cb6088d"
      },
      "execution_count": null,
      "outputs": [
        {
          "output_type": "stream",
          "name": "stdout",
          "text": [
            "tensor([[1., 1.],\n",
            "        [1., 1.]])\n",
            "tensor([[2., 2.],\n",
            "        [2., 2.]])\n",
            "tensor([[3., 3.],\n",
            "        [3., 3.]])\n",
            "tensor([[4., 4.],\n",
            "        [4., 4.]])\n",
            "tensor([[1.4142, 1.4142],\n",
            "        [1.4142, 1.4142]])\n"
          ]
        }
      ]
    },
    {
      "cell_type": "code",
      "source": [
        "powers2 = twos ** torch.tensor([[1, 2], [3, 4]])\n",
        "print(powers2)\n",
        "\n",
        "fives = ones + fours\n",
        "print(fives)\n",
        "\n",
        "dozens = threes * fours\n",
        "print(dozens)"
      ],
      "metadata": {
        "colab": {
          "base_uri": "https://localhost:8080/"
        },
        "id": "yJgYSNExPcA0",
        "outputId": "c31ab1dc-a969-44c7-87a5-d1a30e13999a"
      },
      "execution_count": null,
      "outputs": [
        {
          "output_type": "stream",
          "name": "stdout",
          "text": [
            "tensor([[ 2.,  4.],\n",
            "        [ 8., 16.]])\n",
            "tensor([[5., 5.],\n",
            "        [5., 5.]])\n",
            "tensor([[12., 12.],\n",
            "        [12., 12.]])\n"
          ]
        }
      ]
    },
    {
      "cell_type": "markdown",
      "source": [
        "### In Brief: Tensor Boardcasting"
      ],
      "metadata": {
        "id": "eAo3791UPfE4"
      }
    },
    {
      "cell_type": "markdown",
      "source": [
        "[Boardcasting Documentation](https://pytorch.org/docs/stable/notes/broadcasting.html)"
      ],
      "metadata": {
        "id": "y7sDXy3wQElR"
      }
    },
    {
      "cell_type": "markdown",
      "source": [
        "If you are familiar with broadcasting semantics in NumPy ndarrays, you’ll find the same rules apply here. The exception to the same-shapes rule is tensor broadcasting."
      ],
      "metadata": {
        "id": "XlQZJLvSPr5w"
      }
    },
    {
      "cell_type": "code",
      "source": [
        "rand = torch.rand(2, 4)\n",
        "doubled = rand * (torch.ones(1, 4) * 2)\n",
        "\n",
        "print(rand)\n",
        "print(doubled)"
      ],
      "metadata": {
        "colab": {
          "base_uri": "https://localhost:8080/"
        },
        "id": "EDo8467lPx7m",
        "outputId": "90b9bcc6-924b-4302-9c32-6d94e54c14a2"
      },
      "execution_count": null,
      "outputs": [
        {
          "output_type": "stream",
          "name": "stdout",
          "text": [
            "tensor([[0.6146, 0.5999, 0.5013, 0.9397],\n",
            "        [0.8656, 0.5207, 0.6865, 0.3614]])\n",
            "tensor([[1.2291, 1.1998, 1.0026, 1.8793],\n",
            "        [1.7312, 1.0413, 1.3730, 0.7228]])\n"
          ]
        }
      ]
    },
    {
      "cell_type": "markdown",
      "source": [
        "Broadcasting is a way to perform an operation between tensors that have similarities in their shapes. In the example above, the one-row, four-column tensor is multiplied by both rows of the two-row, four-column tensor.\n",
        "\n",
        "This is an important operation in Deep Learning. The common example is multiplying a tensor of learning weights by a batch of input tensors, applying the operation to each instance in the batch separately, and returning a tensor of identical shape - just like our (2, 4) * (1, 4) example above returned a tensor of shape (2, 4).\n"
      ],
      "metadata": {
        "id": "lbOS9_5qPzR-"
      }
    },
    {
      "cell_type": "code",
      "source": [
        "a =     torch.ones(4, 3, 2)\n",
        "\n",
        "b = a * torch.rand(   3, 2) # 3rd & 2nd dims identical to a, dim 1 absent\n",
        "print(b)\n",
        "\n",
        "c = a * torch.rand(   3, 1) # 3rd dim = 1, 2nd dim identical to a\n",
        "print(c)\n",
        "\n",
        "d = a * torch.rand(   1, 2) # 3rd dim identical to a, 2nd dim = 1\n",
        "print(d)"
      ],
      "metadata": {
        "colab": {
          "base_uri": "https://localhost:8080/"
        },
        "id": "QGoLXZsFP_nX",
        "outputId": "d025dfb6-4a41-4cfa-e959-8d2bc5f2c142"
      },
      "execution_count": null,
      "outputs": [
        {
          "output_type": "stream",
          "name": "stdout",
          "text": [
            "tensor([[[0.6493, 0.2633],\n",
            "         [0.4762, 0.0548],\n",
            "         [0.2024, 0.5731]],\n",
            "\n",
            "        [[0.6493, 0.2633],\n",
            "         [0.4762, 0.0548],\n",
            "         [0.2024, 0.5731]],\n",
            "\n",
            "        [[0.6493, 0.2633],\n",
            "         [0.4762, 0.0548],\n",
            "         [0.2024, 0.5731]],\n",
            "\n",
            "        [[0.6493, 0.2633],\n",
            "         [0.4762, 0.0548],\n",
            "         [0.2024, 0.5731]]])\n",
            "tensor([[[0.7191, 0.7191],\n",
            "         [0.4067, 0.4067],\n",
            "         [0.7301, 0.7301]],\n",
            "\n",
            "        [[0.7191, 0.7191],\n",
            "         [0.4067, 0.4067],\n",
            "         [0.7301, 0.7301]],\n",
            "\n",
            "        [[0.7191, 0.7191],\n",
            "         [0.4067, 0.4067],\n",
            "         [0.7301, 0.7301]],\n",
            "\n",
            "        [[0.7191, 0.7191],\n",
            "         [0.4067, 0.4067],\n",
            "         [0.7301, 0.7301]]])\n",
            "tensor([[[0.6276, 0.7357],\n",
            "         [0.6276, 0.7357],\n",
            "         [0.6276, 0.7357]],\n",
            "\n",
            "        [[0.6276, 0.7357],\n",
            "         [0.6276, 0.7357],\n",
            "         [0.6276, 0.7357]],\n",
            "\n",
            "        [[0.6276, 0.7357],\n",
            "         [0.6276, 0.7357],\n",
            "         [0.6276, 0.7357]],\n",
            "\n",
            "        [[0.6276, 0.7357],\n",
            "         [0.6276, 0.7357],\n",
            "         [0.6276, 0.7357]]])\n"
          ]
        }
      ]
    },
    {
      "cell_type": "code",
      "source": [
        "# The following cell throws a run-time error. This is intentional.\n",
        "\n",
        "a =     torch.ones(4, 3, 2)\n",
        "\n",
        "b = a * torch.rand(4, 3)    # dimensions must match last-to-first\n",
        "\n",
        "c = a * torch.rand(   2, 3) # both 3rd & 2nd dims different\n",
        "\n",
        "d = a * torch.rand((0, ))   # can't broadcast with an empty tensor"
      ],
      "metadata": {
        "id": "FiCVmVxvQUne",
        "colab": {
          "base_uri": "https://localhost:8080/",
          "height": 235
        },
        "outputId": "f8ebef67-1980-433a-ffe4-bba2f82c2f9a"
      },
      "execution_count": null,
      "outputs": [
        {
          "output_type": "error",
          "ename": "RuntimeError",
          "evalue": "ignored",
          "traceback": [
            "\u001b[0;31m---------------------------------------------------------------------------\u001b[0m",
            "\u001b[0;31mRuntimeError\u001b[0m                              Traceback (most recent call last)",
            "\u001b[0;32m<ipython-input-12-b6e9d28a4f21>\u001b[0m in \u001b[0;36m<cell line: 5>\u001b[0;34m()\u001b[0m\n\u001b[1;32m      3\u001b[0m \u001b[0ma\u001b[0m \u001b[0;34m=\u001b[0m     \u001b[0mtorch\u001b[0m\u001b[0;34m.\u001b[0m\u001b[0mones\u001b[0m\u001b[0;34m(\u001b[0m\u001b[0;36m4\u001b[0m\u001b[0;34m,\u001b[0m \u001b[0;36m3\u001b[0m\u001b[0;34m,\u001b[0m \u001b[0;36m2\u001b[0m\u001b[0;34m)\u001b[0m\u001b[0;34m\u001b[0m\u001b[0;34m\u001b[0m\u001b[0m\n\u001b[1;32m      4\u001b[0m \u001b[0;34m\u001b[0m\u001b[0m\n\u001b[0;32m----> 5\u001b[0;31m \u001b[0mb\u001b[0m \u001b[0;34m=\u001b[0m \u001b[0ma\u001b[0m \u001b[0;34m*\u001b[0m \u001b[0mtorch\u001b[0m\u001b[0;34m.\u001b[0m\u001b[0mrand\u001b[0m\u001b[0;34m(\u001b[0m\u001b[0;36m4\u001b[0m\u001b[0;34m,\u001b[0m \u001b[0;36m3\u001b[0m\u001b[0;34m)\u001b[0m    \u001b[0;31m# dimensions must match last-to-first\u001b[0m\u001b[0;34m\u001b[0m\u001b[0;34m\u001b[0m\u001b[0m\n\u001b[0m\u001b[1;32m      6\u001b[0m \u001b[0;34m\u001b[0m\u001b[0m\n\u001b[1;32m      7\u001b[0m \u001b[0mc\u001b[0m \u001b[0;34m=\u001b[0m \u001b[0ma\u001b[0m \u001b[0;34m*\u001b[0m \u001b[0mtorch\u001b[0m\u001b[0;34m.\u001b[0m\u001b[0mrand\u001b[0m\u001b[0;34m(\u001b[0m   \u001b[0;36m2\u001b[0m\u001b[0;34m,\u001b[0m \u001b[0;36m3\u001b[0m\u001b[0;34m)\u001b[0m \u001b[0;31m# both 3rd & 2nd dims different\u001b[0m\u001b[0;34m\u001b[0m\u001b[0;34m\u001b[0m\u001b[0m\n",
            "\u001b[0;31mRuntimeError\u001b[0m: The size of tensor a (2) must match the size of tensor b (3) at non-singleton dimension 2"
          ]
        }
      ]
    },
    {
      "cell_type": "markdown",
      "source": [
        "### More math with tensors"
      ],
      "metadata": {
        "id": "iq0apV6kXsSW"
      }
    },
    {
      "cell_type": "markdown",
      "source": [
        "https://pytorch.org/docs/stable/torch.html#math-operations"
      ],
      "metadata": {
        "id": "d-WGl4kjXzI7"
      }
    },
    {
      "cell_type": "code",
      "source": [
        "# common functions\n",
        "a = torch.rand(2, 4) * 2 - 1\n",
        "print('Common functions:')\n",
        "print(torch.abs(a))\n",
        "print(torch.ceil(a))\n",
        "print(torch.floor(a))\n",
        "print(torch.clamp(a, -0.5, 0.5))\n",
        "\n",
        "# trigonometric functions and their inverses\n",
        "angles = torch.tensor([0, math.pi / 4, math.pi / 2, 3 * math.pi / 4])\n",
        "sines = torch.sin(angles)\n",
        "inverses = torch.asin(sines)\n",
        "print('\\nSine and arcsine:')\n",
        "print(angles)\n",
        "print(sines)\n",
        "print(inverses)\n",
        "\n",
        "# bitwise operations\n",
        "print('\\nBitwise XOR:')\n",
        "b = torch.tensor([1, 5, 11])\n",
        "c = torch.tensor([2, 7, 10])\n",
        "print(torch.bitwise_xor(b, c))\n",
        "\n",
        "# comparisons:\n",
        "print('\\nBroadcasted, element-wise equality comparison:')\n",
        "d = torch.tensor([[1., 2.], [3., 4.]])\n",
        "e = torch.ones(1, 2)  # many comparison ops support broadcasting!\n",
        "print(torch.eq(d, e)) # returns a tensor of type bool\n",
        "\n",
        "# reductions:\n",
        "print('\\nReduction ops:')\n",
        "print(torch.max(d))        # returns a single-element tensor\n",
        "print(torch.max(d).item()) # extracts the value from the returned tensor\n",
        "print(torch.mean(d))       # average\n",
        "print(torch.std(d))        # standard deviation\n",
        "print(torch.prod(d))       # product of all numbers\n",
        "print(torch.unique(torch.tensor([1, 2, 1, 2, 1, 2]))) # filter unique elements\n",
        "\n",
        "# vector and linear algebra operations\n",
        "v1 = torch.tensor([1., 0., 0.])         # x unit vector\n",
        "v2 = torch.tensor([0., 1., 0.])         # y unit vector\n",
        "m1 = torch.rand(2, 2)                   # random matrix\n",
        "m2 = torch.tensor([[3., 0.], [0., 3.]]) # three times identity matrix\n",
        "\n",
        "print('\\nVectors & Matrices:')\n",
        "print(torch.cross(v2, v1)) # negative of z unit vector (v1 x v2 == -v2 x v1)\n",
        "print(m1)\n",
        "m3 = torch.matmul(m1, m2)\n",
        "print(m3)                  # 3 times m1\n",
        "print(torch.svd(m3))       # singular value decomposition"
      ],
      "metadata": {
        "colab": {
          "base_uri": "https://localhost:8080/"
        },
        "id": "HNOZoI7nXxcv",
        "outputId": "046b1ac2-956b-4ca2-f10b-1c8c8239cbc8"
      },
      "execution_count": null,
      "outputs": [
        {
          "output_type": "stream",
          "name": "stdout",
          "text": [
            "Common functions:\n",
            "tensor([[0.2424, 0.0866, 0.8702, 0.3355],\n",
            "        [0.5652, 0.7337, 0.9955, 0.0110]])\n",
            "tensor([[-0., -0., -0., 1.],\n",
            "        [1., -0., -0., -0.]])\n",
            "tensor([[-1., -1., -1.,  0.],\n",
            "        [ 0., -1., -1., -1.]])\n",
            "tensor([[-0.2424, -0.0866, -0.5000,  0.3355],\n",
            "        [ 0.5000, -0.5000, -0.5000, -0.0110]])\n",
            "\n",
            "Sine and arcsine:\n",
            "tensor([0.0000, 0.7854, 1.5708, 2.3562])\n",
            "tensor([0.0000, 0.7071, 1.0000, 0.7071])\n",
            "tensor([0.0000, 0.7854, 1.5708, 0.7854])\n",
            "\n",
            "Bitwise XOR:\n",
            "tensor([3, 2, 1])\n",
            "\n",
            "Broadcasted, element-wise equality comparison:\n",
            "tensor([[ True, False],\n",
            "        [False, False]])\n",
            "\n",
            "Reduction ops:\n",
            "tensor(4.)\n",
            "4.0\n",
            "tensor(2.5000)\n",
            "tensor(1.2910)\n",
            "tensor(24.)\n",
            "tensor([1, 2])\n",
            "\n",
            "Vectors & Matrices:\n",
            "tensor([ 0.,  0., -1.])\n",
            "tensor([[0.3857, 0.9883],\n",
            "        [0.4762, 0.7242]])\n",
            "tensor([[1.1572, 2.9650],\n",
            "        [1.4287, 2.1726]])\n",
            "torch.return_types.svd(\n",
            "U=tensor([[-0.7758, -0.6310],\n",
            "        [-0.6310,  0.7758]]),\n",
            "S=tensor([4.0883, 0.4211]),\n",
            "V=tensor([[-0.4401,  0.8980],\n",
            "        [-0.8980, -0.4401]]))\n"
          ]
        }
      ]
    },
    {
      "cell_type": "markdown",
      "source": [
        "### Altering Tensors in a Place"
      ],
      "metadata": {
        "id": "U2Z2POTsX88Q"
      }
    },
    {
      "cell_type": "code",
      "source": [
        "a = torch.tensor([0, math.pi / 4, math.pi / 2, 3 * math.pi / 4])\n",
        "print('a:')\n",
        "print(a)\n",
        "print(torch.sin(a))   # this operation creates a new tensor in memory\n",
        "print(a)              # a has not changed\n",
        "\n",
        "b = torch.tensor([0, math.pi / 4, math.pi / 2, 3 * math.pi / 4])\n",
        "print('\\nb:')\n",
        "print(b)\n",
        "print(torch.sin_(b))  # note the underscore\n",
        "print(b)              # b has changed"
      ],
      "metadata": {
        "colab": {
          "base_uri": "https://localhost:8080/"
        },
        "id": "zViQcnL2YA7N",
        "outputId": "8e005c76-c4e7-4210-a190-5ce20265c79d"
      },
      "execution_count": null,
      "outputs": [
        {
          "output_type": "stream",
          "name": "stdout",
          "text": [
            "a:\n",
            "tensor([0.0000, 0.7854, 1.5708, 2.3562])\n",
            "tensor([0.0000, 0.7071, 1.0000, 0.7071])\n",
            "tensor([0.0000, 0.7854, 1.5708, 2.3562])\n",
            "\n",
            "b:\n",
            "tensor([0.0000, 0.7854, 1.5708, 2.3562])\n",
            "tensor([0.0000, 0.7071, 1.0000, 0.7071])\n",
            "tensor([0.0000, 0.7071, 1.0000, 0.7071])\n"
          ]
        }
      ]
    },
    {
      "cell_type": "code",
      "source": [
        "a = torch.ones(2, 2)\n",
        "b = torch.rand(2, 2)\n",
        "\n",
        "print('Before:')\n",
        "print(a)\n",
        "print(b)\n",
        "print('\\nAfter adding:')\n",
        "print(a.add_(b))\n",
        "print(a)\n",
        "print(b)\n",
        "print('\\nAfter multiplying')\n",
        "print(b.mul_(b))\n",
        "print(b)"
      ],
      "metadata": {
        "colab": {
          "base_uri": "https://localhost:8080/"
        },
        "id": "2BiyW39bYDSN",
        "outputId": "ba4aa761-e217-48f8-baa1-812f71b06443"
      },
      "execution_count": null,
      "outputs": [
        {
          "output_type": "stream",
          "name": "stdout",
          "text": [
            "Before:\n",
            "tensor([[1., 1.],\n",
            "        [1., 1.]])\n",
            "tensor([[0.0776, 0.4004],\n",
            "        [0.9877, 0.0352]])\n",
            "\n",
            "After adding:\n",
            "tensor([[1.0776, 1.4004],\n",
            "        [1.9877, 1.0352]])\n",
            "tensor([[1.0776, 1.4004],\n",
            "        [1.9877, 1.0352]])\n",
            "tensor([[0.0776, 0.4004],\n",
            "        [0.9877, 0.0352]])\n",
            "\n",
            "After multiplying\n",
            "tensor([[0.0060, 0.1603],\n",
            "        [0.9756, 0.0012]])\n",
            "tensor([[0.0060, 0.1603],\n",
            "        [0.9756, 0.0012]])\n"
          ]
        }
      ]
    },
    {
      "cell_type": "markdown",
      "source": [
        "Note that these in-place arithmetic functions are methods on the `torch.Tensor` object, not attached to the torch module like many other functions (e.g., `torch.sin()`). As you can see from `a.add_(b)`, the calling tensor is the one that gets changed in place."
      ],
      "metadata": {
        "id": "y79vGxZvYFow"
      }
    },
    {
      "cell_type": "code",
      "source": [
        "a = torch.rand(2, 2)\n",
        "b = torch.rand(2, 2)\n",
        "c = torch.zeros(2, 2)\n",
        "old_id = id(c)\n",
        "\n",
        "print(c)\n",
        "d = torch.matmul(a, b, out=c)\n",
        "print(c)                # contents of c have changed\n",
        "\n",
        "assert c is d           # test c & d are same object, not just containing equal values\n",
        "assert id(c) == old_id  # make sure that our new c is the same object as the old one\n",
        "\n",
        "torch.rand(2, 2, out=c) # works for creation too!\n",
        "print(c)                # c has changed again\n",
        "assert id(c) == old_id  # still the same object!"
      ],
      "metadata": {
        "colab": {
          "base_uri": "https://localhost:8080/"
        },
        "id": "rMn8kaPobJ4Y",
        "outputId": "66e9f8fd-ce64-42d3-bd8f-5bb35e842a2a"
      },
      "execution_count": null,
      "outputs": [
        {
          "output_type": "stream",
          "name": "stdout",
          "text": [
            "tensor([[0., 0.],\n",
            "        [0., 0.]])\n",
            "tensor([[0.4101, 0.1728],\n",
            "        [0.8007, 0.7183]])\n",
            "tensor([[0.8441, 0.9004],\n",
            "        [0.3995, 0.6324]])\n"
          ]
        }
      ]
    },
    {
      "cell_type": "markdown",
      "source": [
        "## Copying Tensors"
      ],
      "metadata": {
        "id": "X9CDKCMXbMDY"
      }
    },
    {
      "cell_type": "code",
      "source": [
        "a = torch.ones(2, 2)\n",
        "b = a\n",
        "\n",
        "a[0][1] = 561  # we change a...\n",
        "print(b)       # ...and b is also altered"
      ],
      "metadata": {
        "colab": {
          "base_uri": "https://localhost:8080/"
        },
        "id": "dqxRf6nEbPhM",
        "outputId": "887ae15b-4084-498c-b309-2a111f192404"
      },
      "execution_count": null,
      "outputs": [
        {
          "output_type": "stream",
          "name": "stdout",
          "text": [
            "tensor([[  1., 561.],\n",
            "        [  1.,   1.]])\n"
          ]
        }
      ]
    },
    {
      "cell_type": "code",
      "source": [
        "a = torch.ones(2, 2)\n",
        "b = a.clone()          # if you want a separate copy of the data to work on\n",
        "\n",
        "assert b is not a      # different objects in memory...\n",
        "print(torch.eq(a, b))  # ...but still with the same contents!\n",
        "\n",
        "a[0][1] = 561          # a changes...\n",
        "print(b)               # ...but b is still all ones"
      ],
      "metadata": {
        "colab": {
          "base_uri": "https://localhost:8080/"
        },
        "id": "ZX7RaFhAbQ8w",
        "outputId": "f8c1ecd9-c029-41be-fa13-aa309e78550d"
      },
      "execution_count": null,
      "outputs": [
        {
          "output_type": "stream",
          "name": "stdout",
          "text": [
            "tensor([[True, True],\n",
            "        [True, True]])\n",
            "tensor([[1., 1.],\n",
            "        [1., 1.]])\n"
          ]
        }
      ]
    },
    {
      "cell_type": "code",
      "source": [
        "a = torch.rand(2, 2, requires_grad=True) # turn on autograd\n",
        "print(a)\n",
        "\n",
        "b = a.clone()\n",
        "print(b)\n",
        "\n",
        "c = a.detach().clone()\n",
        "print(c)\n",
        "\n",
        "print(a)"
      ],
      "metadata": {
        "id": "HzOQLg8PbYq_",
        "colab": {
          "base_uri": "https://localhost:8080/"
        },
        "outputId": "3de125df-4610-4c20-9166-ae886c6a8fac"
      },
      "execution_count": null,
      "outputs": [
        {
          "output_type": "stream",
          "name": "stdout",
          "text": [
            "tensor([[0.9464, 0.0113],\n",
            "        [0.5183, 0.9807]], requires_grad=True)\n",
            "tensor([[0.9464, 0.0113],\n",
            "        [0.5183, 0.9807]], grad_fn=<CloneBackward0>)\n",
            "tensor([[0.9464, 0.0113],\n",
            "        [0.5183, 0.9807]])\n",
            "tensor([[0.9464, 0.0113],\n",
            "        [0.5183, 0.9807]], requires_grad=True)\n"
          ]
        }
      ]
    },
    {
      "cell_type": "markdown",
      "source": [
        "The `detach()` method detaches the tensor from its computation history. It says, “do whatever comes next as if autograd was off.” It does this without changing `a` - you can see that when we print `a` again at the end, it retains its `requires_grad=True` property"
      ],
      "metadata": {
        "id": "nU5JMUXrxojl"
      }
    },
    {
      "cell_type": "markdown",
      "source": [
        "## Moving to GPU"
      ],
      "metadata": {
        "id": "tnzpRwsbyZl8"
      }
    },
    {
      "cell_type": "code",
      "source": [
        "import torch\n",
        "\n",
        "if torch.cuda.is_available():\n",
        "    print('We have a GPU!')\n",
        "else:\n",
        "    print('Sorry, CPU only.')"
      ],
      "metadata": {
        "colab": {
          "base_uri": "https://localhost:8080/"
        },
        "id": "VQ9ZOrAqycDa",
        "outputId": "0d081aae-0663-4ca6-bb00-267cbf80f711"
      },
      "execution_count": null,
      "outputs": [
        {
          "output_type": "stream",
          "name": "stdout",
          "text": [
            "We have a GPU!\n"
          ]
        }
      ]
    },
    {
      "cell_type": "code",
      "source": [
        "if torch.cuda.is_available():\n",
        "    gpu_rand = torch.rand(2, 2, device='cuda')\n",
        "    print(gpu_rand)\n",
        "else:\n",
        "    print('Sorry, CPU only.')"
      ],
      "metadata": {
        "colab": {
          "base_uri": "https://localhost:8080/"
        },
        "id": "VdfvAvteyhqo",
        "outputId": "4096da26-761b-4fbf-ad64-13b7c065af52"
      },
      "execution_count": null,
      "outputs": [
        {
          "output_type": "stream",
          "name": "stdout",
          "text": [
            "tensor([[0.4158, 0.2787],\n",
            "        [0.5102, 0.7642]], device='cuda:0')\n"
          ]
        }
      ]
    },
    {
      "cell_type": "code",
      "source": [
        "if torch.cuda.is_available():\n",
        "    my_device = torch.device('cuda')\n",
        "else:\n",
        "    my_device = torch.device('cpu')\n",
        "print('Device: {}'.format(my_device))\n",
        "\n",
        "x = torch.rand(2, 2, device=my_device)\n",
        "print(x)"
      ],
      "metadata": {
        "colab": {
          "base_uri": "https://localhost:8080/"
        },
        "id": "38WHOACtz7qP",
        "outputId": "0c254a73-a11e-43ac-dcaa-1d09cd4d123f"
      },
      "execution_count": null,
      "outputs": [
        {
          "output_type": "stream",
          "name": "stdout",
          "text": [
            "Device: cuda\n",
            "tensor([[0.6773, 0.5269],\n",
            "        [0.7180, 0.7513]], device='cuda:0')\n"
          ]
        }
      ]
    },
    {
      "cell_type": "code",
      "source": [
        "y = torch.rand(2, 2)\n",
        "y = y.to(my_device)"
      ],
      "metadata": {
        "id": "DDYItBoyz-HI"
      },
      "execution_count": null,
      "outputs": []
    },
    {
      "cell_type": "code",
      "source": [
        "x = torch.rand(2, 2)\n",
        "y = torch.rand(2, 2, device='cuda')\n",
        "z = x + y  # exception will be thrown (RuntimeError)"
      ],
      "metadata": {
        "colab": {
          "base_uri": "https://localhost:8080/",
          "height": 200
        },
        "id": "n1uXG6gb0BO9",
        "outputId": "31271da0-a641-4c89-9518-9b9c090b80ca"
      },
      "execution_count": null,
      "outputs": [
        {
          "output_type": "error",
          "ename": "RuntimeError",
          "evalue": "ignored",
          "traceback": [
            "\u001b[0;31m---------------------------------------------------------------------------\u001b[0m",
            "\u001b[0;31mRuntimeError\u001b[0m                              Traceback (most recent call last)",
            "\u001b[0;32m<ipython-input-7-a5ab65b82780>\u001b[0m in \u001b[0;36m<cell line: 3>\u001b[0;34m()\u001b[0m\n\u001b[1;32m      1\u001b[0m \u001b[0mx\u001b[0m \u001b[0;34m=\u001b[0m \u001b[0mtorch\u001b[0m\u001b[0;34m.\u001b[0m\u001b[0mrand\u001b[0m\u001b[0;34m(\u001b[0m\u001b[0;36m2\u001b[0m\u001b[0;34m,\u001b[0m \u001b[0;36m2\u001b[0m\u001b[0;34m)\u001b[0m\u001b[0;34m\u001b[0m\u001b[0;34m\u001b[0m\u001b[0m\n\u001b[1;32m      2\u001b[0m \u001b[0my\u001b[0m \u001b[0;34m=\u001b[0m \u001b[0mtorch\u001b[0m\u001b[0;34m.\u001b[0m\u001b[0mrand\u001b[0m\u001b[0;34m(\u001b[0m\u001b[0;36m2\u001b[0m\u001b[0;34m,\u001b[0m \u001b[0;36m2\u001b[0m\u001b[0;34m,\u001b[0m \u001b[0mdevice\u001b[0m\u001b[0;34m=\u001b[0m\u001b[0;34m'cuda'\u001b[0m\u001b[0;34m)\u001b[0m\u001b[0;34m\u001b[0m\u001b[0;34m\u001b[0m\u001b[0m\n\u001b[0;32m----> 3\u001b[0;31m \u001b[0mz\u001b[0m \u001b[0;34m=\u001b[0m \u001b[0mx\u001b[0m \u001b[0;34m+\u001b[0m \u001b[0my\u001b[0m  \u001b[0;31m# exception will be thrown\u001b[0m\u001b[0;34m\u001b[0m\u001b[0;34m\u001b[0m\u001b[0m\n\u001b[0m",
            "\u001b[0;31mRuntimeError\u001b[0m: Expected all tensors to be on the same device, but found at least two devices, cuda:0 and cpu!"
          ]
        }
      ]
    },
    {
      "cell_type": "markdown",
      "source": [
        "## Manipulating the tensors"
      ],
      "metadata": {
        "id": "eNcmjUgn0DLD"
      }
    },
    {
      "cell_type": "markdown",
      "source": [
        "### Changing the number of dimensions"
      ],
      "metadata": {
        "id": "pxpG40ua0v-k"
      }
    },
    {
      "cell_type": "code",
      "source": [
        "a = torch.rand(3, 226, 226)\n",
        "b = a.unsqueeze(0)\n",
        "\n",
        "print(a.shape)\n",
        "print(b.shape)"
      ],
      "metadata": {
        "colab": {
          "base_uri": "https://localhost:8080/"
        },
        "id": "ePQRVmOu01sQ",
        "outputId": "b6f035e6-29c9-46f3-f5e3-54b295c9d1b1"
      },
      "execution_count": null,
      "outputs": [
        {
          "output_type": "stream",
          "name": "stdout",
          "text": [
            "torch.Size([3, 226, 226])\n",
            "torch.Size([1, 3, 226, 226])\n"
          ]
        }
      ]
    },
    {
      "cell_type": "code",
      "source": [
        "c = torch.rand(1, 1, 1, 1, 1)\n",
        "print(c)"
      ],
      "metadata": {
        "colab": {
          "base_uri": "https://localhost:8080/"
        },
        "id": "DXaQnXFX03LR",
        "outputId": "6eb8ceaa-fe52-4fbe-a817-00d8b80bac48"
      },
      "execution_count": null,
      "outputs": [
        {
          "output_type": "stream",
          "name": "stdout",
          "text": [
            "tensor([[[[[0.9599]]]]])\n"
          ]
        }
      ]
    },
    {
      "cell_type": "code",
      "source": [
        "a = torch.rand(1, 20)\n",
        "print(a.shape)\n",
        "print(a)\n",
        "\n",
        "b = a.squeeze(0)\n",
        "print(b.shape)\n",
        "print(b)\n",
        "\n",
        "c = torch.rand(2, 2)\n",
        "print(c.shape)\n",
        "\n",
        "d = c.squeeze(0)\n",
        "print(d.shape)"
      ],
      "metadata": {
        "colab": {
          "base_uri": "https://localhost:8080/"
        },
        "id": "ILFUL0SP1B8x",
        "outputId": "d273774b-71ab-4d9b-cd70-e419a203e130"
      },
      "execution_count": null,
      "outputs": [
        {
          "output_type": "stream",
          "name": "stdout",
          "text": [
            "torch.Size([1, 20])\n",
            "tensor([[0.2149, 0.0944, 0.0626, 0.1239, 0.3631, 0.2029, 0.0486, 0.4670, 0.9484,\n",
            "         0.4189, 0.1235, 0.4203, 0.8801, 0.6592, 0.3684, 0.2175, 0.6914, 0.3279,\n",
            "         0.0643, 0.0957]])\n",
            "torch.Size([20])\n",
            "tensor([0.2149, 0.0944, 0.0626, 0.1239, 0.3631, 0.2029, 0.0486, 0.4670, 0.9484,\n",
            "        0.4189, 0.1235, 0.4203, 0.8801, 0.6592, 0.3684, 0.2175, 0.6914, 0.3279,\n",
            "        0.0643, 0.0957])\n",
            "torch.Size([2, 2])\n",
            "torch.Size([2, 2])\n"
          ]
        }
      ]
    },
    {
      "cell_type": "code",
      "source": [
        "a = torch.ones(4, 3, 2)\n",
        "\n",
        "c = a * torch.rand(   3, 1) # 3rd dim = 1, 2nd dim identical to a\n",
        "print(c)"
      ],
      "metadata": {
        "colab": {
          "base_uri": "https://localhost:8080/"
        },
        "id": "mRBMgmSp1GMO",
        "outputId": "1ad25a67-fd85-4f7e-a222-cbf12a18add7"
      },
      "execution_count": null,
      "outputs": [
        {
          "output_type": "stream",
          "name": "stdout",
          "text": [
            "tensor([[[0.9906, 0.9906],\n",
            "         [0.4347, 0.4347],\n",
            "         [0.0471, 0.0471]],\n",
            "\n",
            "        [[0.9906, 0.9906],\n",
            "         [0.4347, 0.4347],\n",
            "         [0.0471, 0.0471]],\n",
            "\n",
            "        [[0.9906, 0.9906],\n",
            "         [0.4347, 0.4347],\n",
            "         [0.0471, 0.0471]],\n",
            "\n",
            "        [[0.9906, 0.9906],\n",
            "         [0.4347, 0.4347],\n",
            "         [0.0471, 0.0471]]])\n"
          ]
        }
      ]
    },
    {
      "cell_type": "code",
      "source": [
        "a = torch.ones(4, 3, 2)\n",
        "b = torch.rand(   3)     # trying to multiply a * b will give a runtime error\n",
        "c = b.unsqueeze(1)       # change to a 2-dimensional tensor, adding new dim at the end\n",
        "print(c.shape)\n",
        "print(a * c)             # broadcasting works again!"
      ],
      "metadata": {
        "colab": {
          "base_uri": "https://localhost:8080/"
        },
        "id": "wP3UQXL-1Md6",
        "outputId": "b4b539ff-c30c-4c4e-8f2b-68d194529594"
      },
      "execution_count": null,
      "outputs": [
        {
          "output_type": "stream",
          "name": "stdout",
          "text": [
            "torch.Size([3, 1])\n",
            "tensor([[[0.3002, 0.3002],\n",
            "         [0.2749, 0.2749],\n",
            "         [0.6991, 0.6991]],\n",
            "\n",
            "        [[0.3002, 0.3002],\n",
            "         [0.2749, 0.2749],\n",
            "         [0.6991, 0.6991]],\n",
            "\n",
            "        [[0.3002, 0.3002],\n",
            "         [0.2749, 0.2749],\n",
            "         [0.6991, 0.6991]],\n",
            "\n",
            "        [[0.3002, 0.3002],\n",
            "         [0.2749, 0.2749],\n",
            "         [0.6991, 0.6991]]])\n"
          ]
        }
      ]
    },
    {
      "cell_type": "code",
      "source": [
        "batch_me = torch.rand(3, 226, 226)\n",
        "print(batch_me.shape)\n",
        "batch_me.unsqueeze_(0)\n",
        "print(batch_me.shape)"
      ],
      "metadata": {
        "colab": {
          "base_uri": "https://localhost:8080/"
        },
        "id": "MWCH4eVV1XWE",
        "outputId": "4ca2fb19-61d7-4c36-bed1-b01e585286fb"
      },
      "execution_count": null,
      "outputs": [
        {
          "output_type": "stream",
          "name": "stdout",
          "text": [
            "torch.Size([3, 226, 226])\n",
            "torch.Size([1, 3, 226, 226])\n"
          ]
        }
      ]
    },
    {
      "cell_type": "code",
      "source": [
        "output3d = torch.rand(6, 20, 20)\n",
        "print(output3d.shape)\n",
        "\n",
        "input1d = output3d.reshape(6 * 20 * 20)\n",
        "print(input1d.shape)\n",
        "\n",
        "# can also call it as a method on the torch module:\n",
        "print(torch.reshape(output3d, (6 * 20 * 20,)).shape)"
      ],
      "metadata": {
        "colab": {
          "base_uri": "https://localhost:8080/"
        },
        "id": "GWfuAFKj1Z7D",
        "outputId": "d89d80f2-9c54-4bd5-aa3d-9b1fc7ba09e5"
      },
      "execution_count": null,
      "outputs": [
        {
          "output_type": "stream",
          "name": "stdout",
          "text": [
            "torch.Size([6, 20, 20])\n",
            "torch.Size([2400])\n",
            "torch.Size([2400])\n"
          ]
        }
      ]
    },
    {
      "cell_type": "markdown",
      "source": [
        "## NumPy Bridge"
      ],
      "metadata": {
        "id": "xBPbqzMs1c-f"
      }
    },
    {
      "cell_type": "code",
      "source": [
        "import numpy as np\n",
        "\n",
        "numpy_array = np.ones((2, 3))\n",
        "print(numpy_array)\n",
        "\n",
        "pytorch_tensor = torch.from_numpy(numpy_array)\n",
        "print(pytorch_tensor)"
      ],
      "metadata": {
        "colab": {
          "base_uri": "https://localhost:8080/"
        },
        "id": "DMPvWSiJ1mqZ",
        "outputId": "bf2bcec9-1a4c-4bfc-fd6e-a1f5d52023b1"
      },
      "execution_count": null,
      "outputs": [
        {
          "output_type": "stream",
          "name": "stdout",
          "text": [
            "[[1. 1. 1.]\n",
            " [1. 1. 1.]]\n",
            "tensor([[1., 1., 1.],\n",
            "        [1., 1., 1.]], dtype=torch.float64)\n"
          ]
        }
      ]
    },
    {
      "cell_type": "code",
      "source": [
        "pytorch_rand = torch.rand(2, 3)\n",
        "print(pytorch_rand)\n",
        "\n",
        "numpy_rand = pytorch_rand.numpy()\n",
        "print(numpy_rand)"
      ],
      "metadata": {
        "colab": {
          "base_uri": "https://localhost:8080/"
        },
        "id": "ZEfyxrRb1n_E",
        "outputId": "08a61075-a261-4fb8-ca9d-db3438ffdd55"
      },
      "execution_count": null,
      "outputs": [
        {
          "output_type": "stream",
          "name": "stdout",
          "text": [
            "tensor([[0.6388, 0.0624, 0.1050],\n",
            "        [0.8355, 0.6254, 0.2108]])\n",
            "[[0.6388038  0.06243318 0.10503912]\n",
            " [0.835543   0.62537473 0.21078885]]\n"
          ]
        }
      ]
    },
    {
      "cell_type": "code",
      "source": [
        "numpy_array[1, 1] = 23\n",
        "print(pytorch_tensor)\n",
        "\n",
        "pytorch_rand[1, 1] = 17\n",
        "print(numpy_rand)"
      ],
      "metadata": {
        "colab": {
          "base_uri": "https://localhost:8080/"
        },
        "id": "JIhy0VhE1pkw",
        "outputId": "bbb5faa9-7965-471e-dda7-5f1360f61adf"
      },
      "execution_count": null,
      "outputs": [
        {
          "output_type": "stream",
          "name": "stdout",
          "text": [
            "tensor([[ 1.,  1.,  1.],\n",
            "        [ 1., 23.,  1.]], dtype=torch.float64)\n",
            "[[ 0.6388038   0.06243318  0.10503912]\n",
            " [ 0.835543   17.          0.21078885]]\n"
          ]
        }
      ]
    }
  ]
}