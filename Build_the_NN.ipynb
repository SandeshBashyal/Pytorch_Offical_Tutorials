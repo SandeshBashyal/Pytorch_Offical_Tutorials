{
  "nbformat": 4,
  "nbformat_minor": 0,
  "metadata": {
    "colab": {
      "provenance": [],
      "gpuType": "T4",
      "authorship_tag": "ABX9TyNXwvfqbrcX20/MrwFVrgHg"
    },
    "kernelspec": {
      "name": "python3",
      "display_name": "Python 3"
    },
    "language_info": {
      "name": "python"
    },
    "accelerator": "GPU"
  },
  "cells": [
    {
      "cell_type": "markdown",
      "source": [
        "# Build the Neural Network"
      ],
      "metadata": {
        "id": "UynX9G5RJJs9"
      }
    },
    {
      "cell_type": "code",
      "source": [
        "import os\n",
        "import torch\n",
        "from torch import nn\n",
        "from torch.utils.data import DataLoader\n",
        "from torchvision import datasets, transforms"
      ],
      "metadata": {
        "id": "Ti9A003qJrGS"
      },
      "execution_count": 1,
      "outputs": []
    },
    {
      "cell_type": "markdown",
      "source": [
        "## Getting the device"
      ],
      "metadata": {
        "id": "mDio2TRiJ8f3"
      }
    },
    {
      "cell_type": "code",
      "source": [
        "if torch.cuda.is_available():\n",
        "    device = torch.device('cuda')\n",
        "else:\n",
        "    device = torch.device('cpu')\n",
        "print(f'Using {device} device')"
      ],
      "metadata": {
        "colab": {
          "base_uri": "https://localhost:8080/"
        },
        "id": "Ku4b4-3zKAuR",
        "outputId": "80fcc82f-d782-4e5a-e068-4f5ca50f7210"
      },
      "execution_count": 2,
      "outputs": [
        {
          "output_type": "stream",
          "name": "stdout",
          "text": [
            "Using cuda device\n"
          ]
        }
      ]
    },
    {
      "cell_type": "markdown",
      "source": [
        "## Defining the Class"
      ],
      "metadata": {
        "id": "ZwpOpJumKayF"
      }
    },
    {
      "cell_type": "code",
      "source": [
        "class NeuralNetwork(nn.Module):\n",
        "    def __init__(self):\n",
        "        super().__init__()\n",
        "        self.flatten = nn.Flatten()\n",
        "        self.linear_relu_stack = nn.Sequential(\n",
        "            nn.Linear(28*28, 512),\n",
        "            nn.ReLU(),\n",
        "            nn.Linear(512, 512),\n",
        "            nn.ReLU(),\n",
        "            nn.Linear(512, 10),\n",
        "        )\n",
        "\n",
        "    def forward(self, x):\n",
        "        x = self.flatten(x)\n",
        "        logits = self.linear_relu_stack(x)\n",
        "        return logits"
      ],
      "metadata": {
        "id": "FtQAsFZvLqnc"
      },
      "execution_count": 3,
      "outputs": []
    },
    {
      "cell_type": "markdown",
      "source": [
        "Instance of NeuralNetwork, and move it to the device, and print its structure."
      ],
      "metadata": {
        "id": "E6DPtZnWMEZ0"
      }
    },
    {
      "cell_type": "code",
      "source": [
        "model = NeuralNetwork().to(device)\n",
        "print(model)"
      ],
      "metadata": {
        "colab": {
          "base_uri": "https://localhost:8080/"
        },
        "id": "6oOaKVpdLwQl",
        "outputId": "48e6ae3d-1c33-41ba-ddbc-e9d51ae8b989"
      },
      "execution_count": 4,
      "outputs": [
        {
          "output_type": "stream",
          "name": "stdout",
          "text": [
            "NeuralNetwork(\n",
            "  (flatten): Flatten(start_dim=1, end_dim=-1)\n",
            "  (linear_relu_stack): Sequential(\n",
            "    (0): Linear(in_features=784, out_features=512, bias=True)\n",
            "    (1): ReLU()\n",
            "    (2): Linear(in_features=512, out_features=512, bias=True)\n",
            "    (3): ReLU()\n",
            "    (4): Linear(in_features=512, out_features=10, bias=True)\n",
            "  )\n",
            ")\n"
          ]
        }
      ]
    },
    {
      "cell_type": "markdown",
      "source": [
        "To use the model, we pass it the input data. This executes the model’s forward, along with some background operations. Do not call model.forward() directly!"
      ],
      "metadata": {
        "id": "mWm0QxX1L2ca"
      }
    },
    {
      "cell_type": "markdown",
      "source": [
        "Calling the model on the input returns a 2-dimensional tensor with dim=0 corresponding to each output of 10 raw predicted values for each class, and dim=1 corresponding to the individual values of each output. We get the prediction probabilities by passing it through an instance of the nn.Softmax module."
      ],
      "metadata": {
        "id": "oMZxhSYJMTVU"
      }
    },
    {
      "cell_type": "code",
      "source": [
        "X = torch.rand(1, 28, 28, device=device)\n",
        "logits = model(X)\n",
        "pred_probab = nn.Softmax(dim=1)(logits)\n",
        "y_pred = pred_probab.argmax(1)        # argmax: Returns the indices of the maximum values along an axis.\n",
        "print(f\"Predicted class: {y_pred}\")"
      ],
      "metadata": {
        "colab": {
          "base_uri": "https://localhost:8080/"
        },
        "id": "Zz3vFVFAMMMH",
        "outputId": "c522cbdd-5854-40b5-e3c8-33bff223be96"
      },
      "execution_count": 5,
      "outputs": [
        {
          "output_type": "stream",
          "name": "stdout",
          "text": [
            "Predicted class: tensor([7], device='cuda:0')\n"
          ]
        }
      ]
    },
    {
      "cell_type": "markdown",
      "source": [
        "## Model Layers"
      ],
      "metadata": {
        "id": "IukytK2wPIjn"
      }
    },
    {
      "cell_type": "code",
      "source": [
        "input_image = torch.rand(3,28,28)     # minibatch of 3 images\n",
        "print(input_image.size())"
      ],
      "metadata": {
        "colab": {
          "base_uri": "https://localhost:8080/"
        },
        "id": "1DnpUTl2YEZQ",
        "outputId": "321ee680-68f5-4c1f-da85-74e40a80e163"
      },
      "execution_count": 6,
      "outputs": [
        {
          "output_type": "stream",
          "name": "stdout",
          "text": [
            "torch.Size([3, 28, 28])\n"
          ]
        }
      ]
    },
    {
      "cell_type": "markdown",
      "source": [
        "nn.FLattern:\n",
        "\n",
        "We initialize the nn.Flatten layer to convert each 2D 28x28 image into a contiguous array of 784 pixel values"
      ],
      "metadata": {
        "id": "Xk88bM3tXwvf"
      }
    },
    {
      "cell_type": "code",
      "source": [
        "flatten = nn.Flatten()\n",
        "flat_image = flatten(input_image)\n",
        "print(flat_image.size())"
      ],
      "metadata": {
        "colab": {
          "base_uri": "https://localhost:8080/"
        },
        "id": "X-CVwFXjX3oa",
        "outputId": "944dac63-263b-4c99-a011-6990bc68d049"
      },
      "execution_count": 7,
      "outputs": [
        {
          "output_type": "stream",
          "name": "stdout",
          "text": [
            "torch.Size([3, 784])\n"
          ]
        }
      ]
    },
    {
      "cell_type": "markdown",
      "source": [
        "nn.Linear:\n",
        "\n",
        "The linear layer is a module that applies a linear transformation on the input using its stored weights and biases."
      ],
      "metadata": {
        "id": "Y1IBUuU6YGP5"
      }
    },
    {
      "cell_type": "code",
      "source": [
        "layer1 = nn.Linear(in_features=28*28, out_features=20)\n",
        "hidden1 = layer1(flat_image)\n",
        "print(hidden1.size())"
      ],
      "metadata": {
        "colab": {
          "base_uri": "https://localhost:8080/"
        },
        "id": "xVaots94YRBK",
        "outputId": "f114b012-c862-4cf4-d477-d989cea6162b"
      },
      "execution_count": 8,
      "outputs": [
        {
          "output_type": "stream",
          "name": "stdout",
          "text": [
            "torch.Size([3, 20])\n"
          ]
        }
      ]
    },
    {
      "cell_type": "markdown",
      "source": [
        "nn.ReLU:\n",
        "\n",
        "Non-linear activations are what create the complex mappings between the model’s inputs and outputs."
      ],
      "metadata": {
        "id": "oUdBbxZcYTGs"
      }
    },
    {
      "cell_type": "code",
      "source": [
        "print(f\"Before ReLU: {hidden1}\\n\\n\")\n",
        "hidden1 = nn.ReLU()(hidden1)\n",
        "print(f\"After ReLU: {hidden1}\")"
      ],
      "metadata": {
        "colab": {
          "base_uri": "https://localhost:8080/"
        },
        "id": "SvoSaBhcYkXO",
        "outputId": "0f085d56-23ef-4239-910e-6aa827c90fbd"
      },
      "execution_count": 9,
      "outputs": [
        {
          "output_type": "stream",
          "name": "stdout",
          "text": [
            "Before ReLU: tensor([[ 0.1852,  0.1554, -0.1608, -0.0283, -0.2780, -0.4456,  0.3936, -0.1174,\n",
            "          0.1329,  0.2249, -0.1454,  0.1055,  0.2095,  0.6123, -0.1240,  0.0805,\n",
            "          0.3994, -0.4189,  0.0070,  0.1439],\n",
            "        [-0.3239, -0.2685,  0.0305,  0.0741, -0.7453, -0.4577,  0.4445,  0.0752,\n",
            "          0.5215,  0.1108, -0.1998,  0.6682, -0.0658,  0.5449, -0.2059, -0.2388,\n",
            "          0.3574, -0.7588, -0.1435,  0.0522],\n",
            "        [-0.2038, -0.2589, -0.2250, -0.1682, -0.4074, -0.1774,  0.2514, -0.2915,\n",
            "          0.4959,  0.0973, -0.2580,  0.3216, -0.1458,  0.2976, -0.3054, -0.0915,\n",
            "          0.4205, -0.2944,  0.1246, -0.0702]], grad_fn=<AddmmBackward0>)\n",
            "\n",
            "\n",
            "After ReLU: tensor([[0.1852, 0.1554, 0.0000, 0.0000, 0.0000, 0.0000, 0.3936, 0.0000, 0.1329,\n",
            "         0.2249, 0.0000, 0.1055, 0.2095, 0.6123, 0.0000, 0.0805, 0.3994, 0.0000,\n",
            "         0.0070, 0.1439],\n",
            "        [0.0000, 0.0000, 0.0305, 0.0741, 0.0000, 0.0000, 0.4445, 0.0752, 0.5215,\n",
            "         0.1108, 0.0000, 0.6682, 0.0000, 0.5449, 0.0000, 0.0000, 0.3574, 0.0000,\n",
            "         0.0000, 0.0522],\n",
            "        [0.0000, 0.0000, 0.0000, 0.0000, 0.0000, 0.0000, 0.2514, 0.0000, 0.4959,\n",
            "         0.0973, 0.0000, 0.3216, 0.0000, 0.2976, 0.0000, 0.0000, 0.4205, 0.0000,\n",
            "         0.1246, 0.0000]], grad_fn=<ReluBackward0>)\n"
          ]
        }
      ]
    },
    {
      "cell_type": "markdown",
      "source": [
        "nn.Sequential:\n",
        "\n",
        "nn.Sequential is an ordered container of modules."
      ],
      "metadata": {
        "id": "_iZ991cEY2GU"
      }
    },
    {
      "cell_type": "code",
      "source": [
        "seq_modules = nn.Sequential(\n",
        "    flatten,\n",
        "    layer1,\n",
        "    nn.ReLU(),\n",
        "    nn.Linear(20, 10)\n",
        ")\n",
        "input_image = torch.rand(3,28,28)\n",
        "logits = seq_modules(input_image)   # The last linear layer of the neural network returns logits - raw values in [-infty, infty]"
      ],
      "metadata": {
        "id": "NjxpK79WY5Hh"
      },
      "execution_count": 10,
      "outputs": []
    },
    {
      "cell_type": "markdown",
      "source": [
        "nn.Softmax:\n",
        "\n",
        "The logits are scaled to values [0, 1] representing the model’s predicted probabilities for each class. dim parameter indicates the dimension along which the values must sum to 1."
      ],
      "metadata": {
        "id": "x7CvqVQ3Ylup"
      }
    },
    {
      "cell_type": "code",
      "source": [
        "softmax = nn.Softmax(dim=1)\n",
        "pred_probab = softmax(logits)"
      ],
      "metadata": {
        "id": "YOv-aGuQZVoY"
      },
      "execution_count": 11,
      "outputs": []
    },
    {
      "cell_type": "markdown",
      "source": [
        "## Model Parameters"
      ],
      "metadata": {
        "id": "AaFPBN9jZjml"
      }
    },
    {
      "cell_type": "markdown",
      "source": [
        "Many layers inside a neural network are parameterized, i.e. have associated weights and biases that are optimized during training. Subclassing nn.Module automatically tracks all fields defined inside your model object, and makes all parameters accessible using your model’s parameters() or named_parameters() methods"
      ],
      "metadata": {
        "id": "N3lwMjVKZnVN"
      }
    },
    {
      "cell_type": "code",
      "source": [
        "print(f\"Model structure: {model}\\n\\n\")\n",
        "\n",
        "for name, param in model.named_parameters():\n",
        "    print(f\"Layer: {name} | Size: {param.size()} | Values : {param[:2]} \\n\")"
      ],
      "metadata": {
        "colab": {
          "base_uri": "https://localhost:8080/"
        },
        "id": "sTvP376-Zvhm",
        "outputId": "b5ac7d6b-a25f-4790-cc5d-222571fcbcf1"
      },
      "execution_count": 12,
      "outputs": [
        {
          "output_type": "stream",
          "name": "stdout",
          "text": [
            "Model structure: NeuralNetwork(\n",
            "  (flatten): Flatten(start_dim=1, end_dim=-1)\n",
            "  (linear_relu_stack): Sequential(\n",
            "    (0): Linear(in_features=784, out_features=512, bias=True)\n",
            "    (1): ReLU()\n",
            "    (2): Linear(in_features=512, out_features=512, bias=True)\n",
            "    (3): ReLU()\n",
            "    (4): Linear(in_features=512, out_features=10, bias=True)\n",
            "  )\n",
            ")\n",
            "\n",
            "\n",
            "Layer: linear_relu_stack.0.weight | Size: torch.Size([512, 784]) | Values : tensor([[-0.0338, -0.0254, -0.0116,  ...,  0.0168, -0.0308, -0.0019],\n",
            "        [ 0.0257, -0.0342,  0.0262,  ...,  0.0217, -0.0240, -0.0115]],\n",
            "       device='cuda:0', grad_fn=<SliceBackward0>) \n",
            "\n",
            "Layer: linear_relu_stack.0.bias | Size: torch.Size([512]) | Values : tensor([-0.0037,  0.0233], device='cuda:0', grad_fn=<SliceBackward0>) \n",
            "\n",
            "Layer: linear_relu_stack.2.weight | Size: torch.Size([512, 512]) | Values : tensor([[ 0.0374,  0.0168, -0.0431,  ..., -0.0327,  0.0403,  0.0136],\n",
            "        [-0.0407, -0.0066, -0.0313,  ...,  0.0092, -0.0006,  0.0433]],\n",
            "       device='cuda:0', grad_fn=<SliceBackward0>) \n",
            "\n",
            "Layer: linear_relu_stack.2.bias | Size: torch.Size([512]) | Values : tensor([-0.0283,  0.0321], device='cuda:0', grad_fn=<SliceBackward0>) \n",
            "\n",
            "Layer: linear_relu_stack.4.weight | Size: torch.Size([10, 512]) | Values : tensor([[ 0.0218,  0.0303, -0.0171,  ..., -0.0303,  0.0036,  0.0055],\n",
            "        [ 0.0399,  0.0187,  0.0348,  ..., -0.0067, -0.0104, -0.0017]],\n",
            "       device='cuda:0', grad_fn=<SliceBackward0>) \n",
            "\n",
            "Layer: linear_relu_stack.4.bias | Size: torch.Size([10]) | Values : tensor([-0.0002,  0.0327], device='cuda:0', grad_fn=<SliceBackward0>) \n",
            "\n"
          ]
        }
      ]
    },
    {
      "cell_type": "markdown",
      "source": [
        "## Docs"
      ],
      "metadata": {
        "id": "n0gng0w6Z5wl"
      }
    },
    {
      "cell_type": "markdown",
      "source": [
        "https://pytorch.org/docs/stable/nn.html"
      ],
      "metadata": {
        "id": "eNRFDIa8Z3ng"
      }
    }
  ]
}